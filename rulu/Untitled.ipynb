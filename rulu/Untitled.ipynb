{
 "cells": [
  {
   "cell_type": "code",
   "execution_count": 3,
   "metadata": {},
   "outputs": [],
   "source": [
    "import numpy as np\n",
    "from matplotlib import pyplot as plt\n",
    "from normal_normal_model import get_samples\n",
    "from covariance_CI_test import *\n",
    "import pickle\n",
    "from typing import List\n",
    "import time\n",
    "from multiprocessing import Pool\n",
    "import functools"
   ]
  },
  {
   "cell_type": "code",
   "execution_count": null,
   "metadata": {},
   "outputs": [],
   "source": [
    "num_runs = 101\n",
    "num_covariate_samples = 509\n",
    "num_tests = 1000"
   ]
  },
  {
   "cell_type": "code",
   "execution_count": 5,
   "metadata": {},
   "outputs": [],
   "source": [
    "def print_test_collection_result(test_collection: List[CovarianceCITest]) -> None:\n",
    "    if test_collection is None or len(test_collection) == 0:\n",
    "        print(\"There is nothing in the provided test collection.\")\n",
    "        return\n",
    "    within_CI = [test.theoretical_quantity_in_sample_CI()\n",
    "                 for test in test_collection]\n",
    "    \n",
    "    print(test_collection[0].get_test_name() + \n",
    "          \": {}/{} ({}%) \"\n",
    "          .format(np.sum(within_CI), len(within_CI), \n",
    "                  np.round(100.0 * np.sum(within_CI) / len(within_CI), 2)) +\n",
    "          \"of the tests have the theoretical quantity within the CI.\")"
   ]
  },
  {
   "cell_type": "code",
   "execution_count": 6,
   "metadata": {},
   "outputs": [],
   "source": [
    "def save_test_collection(test_collection: List[CovarianceCITest]) -> None:\n",
    "    if test_collection is None or len(test_collection) == 0:\n",
    "        return\n",
    "    file_name = (\"../output/\" + str(test_collection[0].__class__.__name__) + \n",
    "                 \"_\" + str(int(time.time())) + \".pickle\")\n",
    "    pickle_file = open(file_name, 'wb')\n",
    "    pickle.dump(test_collection, pickle_file)\n",
    "    \n",
    "    print(\"The test collection is saved at \" + file_name)"
   ]
  },
  {
   "cell_type": "code",
   "execution_count": null,
   "metadata": {},
   "outputs": [],
   "source": [
    "def get_test_params() -> Dict[str, float]:\n",
    "    \"\"\"\n",
    "    Randomly generate a set of parameters from a realistic param space\n",
    "    \"\"\"\n",
    "    params = {\n",
    "        'N': int(10 ** np.random.uniform(1.0, 3.5)),\n",
    "        'mu_X': np.random.uniform(-10, 10),\n",
    "        'mu_epsilon': np.random.uniform(-10, 10),\n",
    "        'sigma_sq_X': np.random.uniform(0.3, 10) ** 2,\n",
    "        'sigma_sq_1': np.random.uniform(0.3, 10) ** 2\n",
    "    }\n",
    "    params['M'] = max(int(params['N'] * np.random.uniform(0.01, 0.8)), 1)\n",
    "    params['sigma_sq_2'] = (\n",
    "        max((np.sqrt(params['sigma_sq_1']) * np.random.uniform(0.1, 0.99)) ** 2, \n",
    "            0.2 ** 2))\n",
    "    params['r'] = (\n",
    "        int(np.random.uniform(params['N'] - params['M'] + 1, params['N'] + 1)))\n",
    "    params['s'] = (\n",
    "        int(np.random.uniform(params['N'] - params['M'] + 1, params['N'] + 1)))\n",
    "        \n",
    "    return params"
   ]
  },
  {
   "cell_type": "code",
   "execution_count": null,
   "metadata": {},
   "outputs": [],
   "source": [
    "cov_Yr_Ys_tests = []\n",
    "cov_Yr_Ys_second_order_tests = []\n",
    "cov_Yr_Zs_tests = []\n",
    "cov_Yr_Zs_second_order_tests = []\n",
    "cov_XIr_XJs_tests = []\n",
    "cov_V1_V2_tests = []\n",
    "\n",
    "cov_test_collections = [\n",
    "    cov_Yr_Ys_tests, cov_Yr_Ys_second_order_tests,\n",
    "    cov_Yr_Zs_tests, cov_Yr_Zs_second_order_tests,\n",
    "    cov_XIr_XJs_tests, cov_V1_V2_tests]\n",
    "\n",
    "for num_test in range(0, num_tests):\n",
    "    try:\n",
    "        # Sample the parameters from a realistic parameter space\n",
    "        params = get_test_params()\n",
    "        N = params['N']\n",
    "        M = params['M']\n",
    "        mu_X = params['mu_X']\n",
    "        mu_epsilon = params['mu_epsilon']\n",
    "        sigma_sq_X = params['sigma_sq_X']\n",
    "        sigma_sq_1 = params['sigma_sq_1']\n",
    "        sigma_sq_2 = params['sigma_sq_2']\n",
    "        r = params['r']\n",
    "        s = params['s']\n",
    "        \n",
    "        # Prepare a test\n",
    "        cov_Yr_Ys_test = CovYrYsCITest(r, s, N, sigma_sq_X, sigma_sq_1=sigma_sq_1)\n",
    "        cov_Yr_Ys_second_order_test = CovYrYsSecondOrderCITest(r, s, N, sigma_sq_X, sigma_sq_1=sigma_sq_1)\n",
    "        cov_Yr_Zs_test = CovYrZsCITest(r, s, sigma_sq_X, sigma_sq_1, sigma_sq_2, N)\n",
    "        cov_Yr_Zs_second_order_test = CovYrZsSecondOrderCITest(r, s, sigma_sq_X, sigma_sq_1, sigma_sq_2, N)\n",
    "        cov_XIr_XJs_test = CovXIrXJsCITest(r, s, sigma_sq_X, sigma_sq_1, sigma_sq_2, N)\n",
    "        cov_V1_V2_test = CovV1V2CITest(sigma_sq_X, sigma_sq_1, sigma_sq_2, N, M)\n",
    "        \n",
    "        # Arrange the covariance tests IN THE SAME ORDER as that in the collections\n",
    "        cov_tests = [cov_Yr_Ys_test, cov_Yr_Ys_second_order_test, \n",
    "                     cov_Yr_Zs_test, cov_Yr_Zs_second_order_test,\n",
    "                     cov_XIr_XJs_test, cov_V1_V2_test]\n",
    "\n",
    "        for num_covariate_sample in range(0, num_covariate_samples):\n",
    "            print(\"Test {}/{} (N={}, M={}): calculating sample {}/{}...      \"\n",
    "                  .format(num_test+1, num_tests, N, M,\n",
    "                          num_covariate_sample+1, num_covariate_samples), \n",
    "                  end='\\r')\n",
    "\n",
    "            # Generate samples from multiple runs to obtain one\n",
    "            # covariate sample for each pair of r.v. we are intersted in\n",
    "            samples = get_samples(\n",
    "                num_runs, N, M, mu_X, mu_epsilon, \n",
    "                sigma_sq_X, sigma_sq_1, sigma_sq_2,\n",
    "                verbose=False, r=r, s=s)\n",
    "\n",
    "            for test in cov_tests:\n",
    "                test.add_sample(samples)\n",
    "        \n",
    "        # Once a test is completed (i.e. we collected enough covariate\n",
    "        # samples), we added them to the corresponding, existing\n",
    "        # collection of tests\n",
    "        for (cov_test, cov_test_collection) in \\\n",
    "            [(cov_tests[i], cov_test_collections[i]) for i in range(0, len(cov_tests))]:\n",
    "            cov_test_collection.append(cov_test)\n",
    "        \n",
    "    except KeyboardInterrupt:\n",
    "        # Breaking the for loop is sufficient, as we want to\n",
    "        # analyse the results accumulated so far\n",
    "        break\n",
    "\n",
    "for cov_test_collection in cov_test_collections:\n",
    "    try:\n",
    "        print_test_collection_result(cov_test_collection)\n",
    "    except KeyboardInterrupt:\n",
    "        print(\"{}: Skipped.\".format(cov_test_collection[0].get_test_name()))\n",
    "    save_test_collection(cov_test_collection)\n",
    "\n",
    "# TODO: Save the tests as a pickle for future reference. https://www.thoughtco.com/using-pickle-to-save-objects-2813661\n",
    "# TODO: Convert this to a callable program https://stackabuse.com/command-line-arguments-in-python/"
   ]
  },
  {
   "cell_type": "code",
   "execution_count": 14,
   "metadata": {},
   "outputs": [
    {
     "name": "stdout",
     "output_type": "stream",
     "text": [
      "Cov(Y_(r), Y_(s)): 199/199 (100.0%) of the tests have the theoretical quantity within the CI.\n",
      "The test collection is saved at ../output/CovYrYsCITest_1576745780.pickle\n",
      "Cov(Y_(r), Y_(s)) - 2nd order: 199/199 (100.0%) of the tests have the theoretical quantity within the CI.\n",
      "The test collection is saved at ../output/CovYrYsSecondOrderCITest_1576745783.pickle\n",
      "Cov(Y_(r), Z_(s)): 198/199 (99.5%) of the tests have the theoretical quantity within the CI.\n",
      "The test collection is saved at ../output/CovYrZsCITest_1576745783.pickle\n",
      "Cov(Y_(r), Z_(s)) - second order: 198/199 (99.5%) of the tests have the theoretical quantity within the CI.\n",
      "The test collection is saved at ../output/CovYrZsSecondOrderCITest_1576745785.pickle\n",
      "Cov(X_I(r), X_J(s)): 186/199 (93.47%) of the tests have the theoretical quantity within the CI.\n",
      "The test collection is saved at ../output/CovXIrXJsCITest_1576745786.pickle\n",
      "Cov(V1, V2): Skipped.\n",
      "The test collection is saved at ../output/CovV1V2CITest_1576745792.pickle\n"
     ]
    }
   ],
   "source": [
    "for cov_test_collection in cov_test_collections:\n",
    "    try:\n",
    "        print_test_collection_result(cov_test_collection)\n",
    "    except KeyboardInterrupt:\n",
    "        print(\"{}: Skipped.\".format(cov_test_collection[0].get_test_name()))\n",
    "    save_test_collection(cov_test_collection)"
   ]
  },
  {
   "cell_type": "code",
   "execution_count": null,
   "metadata": {},
   "outputs": [],
   "source": [
    "for test in cov_XIr_XJs_tests:\n",
    "    if not test.theoretical_quantity_in_sample_CI():\n",
    "        print(test.N, test.r, test.s, np.round(test.sigma_sq_X, 4), np.round(test.sigma_sq_1, 4), \"\\t\",\n",
    "              test.theoretical_quantity(),\n",
    "              test.get_sample_CI())"
   ]
  },
  {
   "cell_type": "code",
   "execution_count": 14,
   "metadata": {},
   "outputs": [
    {
     "name": "stdout",
     "output_type": "stream",
     "text": [
      "['../output/CovV1V2CITest_1576745632.pickle', '../output/CovV1V2CITest_1576745792.pickle', '../output/CovV1V2CITest_1577236948.pickle', '../output/CovV1V2CITest_1576658892.pickle', '../output/CovV1V2CITest_1576658922.pickle']\n"
     ]
    },
    {
     "ename": "ModuleNotFoundError",
     "evalue": "No module named 'rulu'",
     "output_type": "error",
     "traceback": [
      "\u001b[0;31m---------------------------------------------------------------------------\u001b[0m",
      "\u001b[0;31mModuleNotFoundError\u001b[0m                       Traceback (most recent call last)",
      "\u001b[0;32m<ipython-input-14-c151a65a780e>\u001b[0m in \u001b[0;36m<module>\u001b[0;34m\u001b[0m\n\u001b[1;32m     23\u001b[0m \u001b[0;34m\u001b[0m\u001b[0m\n\u001b[1;32m     24\u001b[0m \u001b[0mtest_example\u001b[0m \u001b[0;34m=\u001b[0m \u001b[0mCovV1V2CITest\u001b[0m\u001b[0;34m(\u001b[0m\u001b[0;34m)\u001b[0m\u001b[0;34m\u001b[0m\u001b[0;34m\u001b[0m\u001b[0m\n\u001b[0;32m---> 25\u001b[0;31m \u001b[0mexamples\u001b[0m \u001b[0;34m=\u001b[0m \u001b[0mfind_all_tests_in_same_category\u001b[0m\u001b[0;34m(\u001b[0m\u001b[0mtest_example\u001b[0m\u001b[0;34m)\u001b[0m\u001b[0;34m\u001b[0m\u001b[0;34m\u001b[0m\u001b[0m\n\u001b[0m\u001b[1;32m     26\u001b[0m \u001b[0;34m\u001b[0m\u001b[0m\n\u001b[1;32m     27\u001b[0m \u001b[0mprint_test_collection_result\u001b[0m\u001b[0;34m(\u001b[0m\u001b[0mexamples\u001b[0m\u001b[0;34m)\u001b[0m\u001b[0;34m\u001b[0m\u001b[0;34m\u001b[0m\u001b[0m\n",
      "\u001b[0;32m<ipython-input-14-c151a65a780e>\u001b[0m in \u001b[0;36mfind_all_tests_in_same_category\u001b[0;34m(test, in_dir)\u001b[0m\n\u001b[1;32m     19\u001b[0m     \u001b[0mprint\u001b[0m\u001b[0;34m(\u001b[0m\u001b[0mtests_pickle_fps\u001b[0m\u001b[0;34m)\u001b[0m\u001b[0;34m\u001b[0m\u001b[0;34m\u001b[0m\u001b[0m\n\u001b[1;32m     20\u001b[0m \u001b[0;34m\u001b[0m\u001b[0m\n\u001b[0;32m---> 21\u001b[0;31m     return [test for tests in map(get_tests_from_pickle_file, tests_pickle_fps)\n\u001b[0m\u001b[1;32m     22\u001b[0m             for test in tests]\n\u001b[1;32m     23\u001b[0m \u001b[0;34m\u001b[0m\u001b[0m\n",
      "\u001b[0;32m<ipython-input-14-c151a65a780e>\u001b[0m in \u001b[0;36m<listcomp>\u001b[0;34m(.0)\u001b[0m\n\u001b[1;32m     19\u001b[0m     \u001b[0mprint\u001b[0m\u001b[0;34m(\u001b[0m\u001b[0mtests_pickle_fps\u001b[0m\u001b[0;34m)\u001b[0m\u001b[0;34m\u001b[0m\u001b[0;34m\u001b[0m\u001b[0m\n\u001b[1;32m     20\u001b[0m \u001b[0;34m\u001b[0m\u001b[0m\n\u001b[0;32m---> 21\u001b[0;31m     return [test for tests in map(get_tests_from_pickle_file, tests_pickle_fps)\n\u001b[0m\u001b[1;32m     22\u001b[0m             for test in tests]\n\u001b[1;32m     23\u001b[0m \u001b[0;34m\u001b[0m\u001b[0m\n",
      "\u001b[0;32m<ipython-input-14-c151a65a780e>\u001b[0m in \u001b[0;36mget_tests_from_pickle_file\u001b[0;34m(file_path)\u001b[0m\n\u001b[1;32m     10\u001b[0m     \u001b[0;32mdef\u001b[0m \u001b[0mget_tests_from_pickle_file\u001b[0m\u001b[0;34m(\u001b[0m\u001b[0mfile_path\u001b[0m\u001b[0;34m)\u001b[0m\u001b[0;34m:\u001b[0m\u001b[0;34m\u001b[0m\u001b[0;34m\u001b[0m\u001b[0m\n\u001b[1;32m     11\u001b[0m         \u001b[0mfilehandler\u001b[0m \u001b[0;34m=\u001b[0m \u001b[0mopen\u001b[0m\u001b[0;34m(\u001b[0m\u001b[0mfile_path\u001b[0m\u001b[0;34m,\u001b[0m \u001b[0;34m'rb'\u001b[0m\u001b[0;34m)\u001b[0m\u001b[0;34m\u001b[0m\u001b[0;34m\u001b[0m\u001b[0m\n\u001b[0;32m---> 12\u001b[0;31m         \u001b[0;32mreturn\u001b[0m \u001b[0mpickle\u001b[0m\u001b[0;34m.\u001b[0m\u001b[0mload\u001b[0m\u001b[0;34m(\u001b[0m\u001b[0mfilehandler\u001b[0m\u001b[0;34m)\u001b[0m\u001b[0;34m\u001b[0m\u001b[0;34m\u001b[0m\u001b[0m\n\u001b[0m\u001b[1;32m     13\u001b[0m \u001b[0;34m\u001b[0m\u001b[0m\n\u001b[1;32m     14\u001b[0m     tests_pickle_fps = [\n",
      "\u001b[0;31mModuleNotFoundError\u001b[0m: No module named 'rulu'"
     ]
    }
   ],
   "source": [
    "import pickle\n",
    "import os\n",
    "# import rulu\n",
    "\n",
    "def find_all_tests_in_same_category(test, in_dir='../output'):\n",
    "    \"\"\"\n",
    "    Retrieve all tests in `in_dir` that is of the same type as the specified `test`\n",
    "    \"\"\"\n",
    "    \n",
    "    def get_tests_from_pickle_file(file_path):\n",
    "        filehandler = open(file_path, 'rb')\n",
    "        return pickle.load(filehandler)\n",
    "    \n",
    "    tests_pickle_fps = [\n",
    "        os.path.join(in_dir, file)\n",
    "        for file in os.listdir(in_dir) \n",
    "        if str(test.__class__.__name__) in file]\n",
    "    \n",
    "    print(tests_pickle_fps_pickle_fps)\n",
    "    \n",
    "    return [test for tests in map(get_tests_from_pickle_file, tests_pickle_fps)\n",
    "            for test in tests]\n",
    "\n",
    "test_example = CovV1V2CITest()\n",
    "examples = find_all_tests_in_same_category(test_example)\n",
    "\n",
    "print_test_collection_result(examples)\n"
   ]
  },
  {
   "cell_type": "code",
   "execution_count": 9,
   "metadata": {},
   "outputs": [
    {
     "data": {
      "image/png": "[encoded data removed]",
      "text/plain": [
       "<Figure size 432x288 with 1 Axes>"
      ]
     },
     "metadata": {
      "needs_background": "light"
     },
     "output_type": "display_data"
    }
   ],
   "source": [
    "import scipy\n",
    "pcts = [test.theoretical_quantity_sample_percentile() for test in examples]\n",
    "\n",
    "plt.hist(pcts, bins=np.arange(0, 100, 5))\n",
    "plt.xlim(0, 100)\n",
    "# plt.ylim(0, 30)\n",
    "plt.show()\n"
   ]
  },
  {
   "cell_type": "code",
   "execution_count": 13,
   "metadata": {},
   "outputs": [
    {
     "data": {
      "image/png": "[encoded data removed]",
      "text/plain": [
       "<Figure size 432x288 with 1 Axes>"
      ]
     },
     "metadata": {
      "needs_background": "light"
     },
     "output_type": "display_data"
    }
   ],
   "source": [
    "import scipy\n",
    "pcts = [scipy.stats.percentileofscore(test.samples, test.theoretical_quantity())\n",
    "    for test in cov_Yr_Zs_tests]\n",
    "\n",
    "plt.hist(pcts, bins=np.arange(0, 100, 5))\n",
    "plt.xlim(0, 100)\n",
    "plt.ylim(0, 30)\n",
    "plt.show()"
   ]
  },
  {
   "cell_type": "code",
   "execution_count": 12,
   "metadata": {},
   "outputs": [
    {
     "data": {
      "image/png": "[encoded data removed]",
      "text/plain": [
       "<Figure size 432x288 with 1 Axes>"
      ]
     },
     "metadata": {
      "needs_background": "light"
     },
     "output_type": "display_data"
    }
   ],
   "source": [
    "import scipy\n",
    "pcts = [scipy.stats.percentileofscore(test.samples, test.theoretical_quantity())\n",
    "    for test in cov_Yr_Zs_second_order_tests]\n",
    "\n",
    "plt.hist(pcts, bins=np.arange(0, 100, 5))\n",
    "plt.xlim(0, 100)\n",
    "plt.ylim(0, 30)\n",
    "plt.show()"
   ]
  },
  {
   "cell_type": "code",
   "execution_count": null,
   "metadata": {},
   "outputs": [],
   "source": [
    "# N = 500\n",
    "# M = 100\n",
    "# mu_X = 0\n",
    "# mu_epsilon = 0\n",
    "# sigma_sq_X = 1.5**2\n",
    "# sigma_sq_1 = 1.1**2\n",
    "# sigma_sq_2 = 0.6**2\n",
    "\n",
    "# r = 450\n",
    "# s = 485"
   ]
  },
  {
   "cell_type": "code",
   "execution_count": null,
   "metadata": {},
   "outputs": [],
   "source": [
    "from multiprocessing import Pool\n",
    "import functools\n",
    "\n",
    "n_bootstraps = 1000\n",
    "\n",
    "def get_bootstrap_mean_samples(test, n_bootstraps):\n",
    "    bootstraps = []\n",
    "    for i in range(0, n_bootstraps):\n",
    "        bootstraps.append(\n",
    "            np.mean(np.random.choice(test.samples, len(test.samples), replace=True))\n",
    "        )\n",
    "    return bootstraps\n",
    "\n",
    "\n",
    "def get_bootstrap_t_mean_samples(test, n_bootstraps):\n",
    "    initial_mean = np.mean(test.samples)\n",
    "    t_samples = []\n",
    "    for i in range(0, n_bootstraps):\n",
    "        bootstrap_set = np.random.choice(test.samples, len(test.samples), replace=True)\n",
    "        t_samples.append(\n",
    "            (np.mean(bootstrap_set) - initial_mean) / (np.std(bootstrap_set) / np.sqrt(bootstrap_set.shape[0]))\n",
    "        )\n",
    "    return t_samples\n",
    "\n",
    "bootstrap_mean_samples_getter = functools.partial(get_bootstrap_mean_samples, n_bootstraps=n_bootstraps)\n",
    "bootstrap_t_mean_samples_getter = functools.partial(get_bootstrap_t_mean_samples, n_bootstraps=n_bootstraps)\n",
    "\n",
    "with Pool(4) as p:\n",
    "    bootstrap_samples = p.map(bootstrap_mean_samples_getter, cov_Yr_Ys_second_order_tests)\n",
    "    bootstrap_t_samples = p.map(bootstrap_t_mean_samples_getter, cov_Yr_Ys_second_order_tests)\n",
    "\n",
    "for i in range(0, len(cov_Yr_Ys_second_order_tests)):\n",
    "#     print([np.round(np.percentile(bootstrap_samples[i], 2.5), 3), \n",
    "#            np.round(np.percentile(bootstrap_samples[i], 97.5), 4)], end=\"\\t\")\n",
    "\n",
    "    print((cov_Yr_Ys_second_order_tests[i].theoretical_quantity() > (\n",
    "               np.mean(cov_Yr_Ys_second_order_tests[i].samples) - \n",
    "               np.percentile(bootstrap_t_samples[i], 97.5) * \n",
    "               np.std(cov_Yr_Ys_second_order_tests[i].samples) / \n",
    "               np.sqrt(len(cov_Yr_Ys_second_order_tests[i].samples))\n",
    "           )) and\n",
    "           (cov_Yr_Ys_second_order_tests[i].theoretical_quantity() < (\n",
    "               np.mean(cov_Yr_Ys_second_order_tests[i].samples) - \n",
    "               np.percentile(bootstrap_t_samples[i], 2.5) * \n",
    "               np.std(cov_Yr_Ys_second_order_tests[i].samples) / \n",
    "               np.sqrt(len(cov_Yr_Ys_second_order_tests[i].samples))\n",
    "           )))"
   ]
  },
  {
   "cell_type": "code",
   "execution_count": null,
   "metadata": {},
   "outputs": [],
   "source": []
  }
 ],
 "metadata": {
  "kernelspec": {
   "display_name": "Python 3",
   "language": "python",
   "name": "python3"
  },
  "language_info": {
   "codemirror_mode": {
    "name": "ipython",
    "version": 3
   },
   "file_extension": ".py",
   "mimetype": "text/x-python",
   "name": "python",
   "nbconvert_exporter": "python",
   "pygments_lexer": "ipython3",
   "version": "3.7.3"
  }
 },
 "nbformat": 4,
 "nbformat_minor": 2
}
