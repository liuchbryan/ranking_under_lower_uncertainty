{
 "cells": [
  {
   "cell_type": "code",
   "execution_count": 13,
   "metadata": {},
   "outputs": [],
   "source": [
    "import numpy as np\n",
    "from scipy.stats import rankdata, betabinom, norm, chisquare\n",
    "from matplotlib import pyplot as plt\n",
    "\n",
    "from rulu.normal_normal_model import _E_P_ZN_ZIr, _var_P_ZN_ZIr, cov_XIr_XJs_second_order, \\\n",
    "cov_Yr_Zs, _var_XIr_XJs, cov_XIr_XJs, var_XIr\n",
    "from rulu.utils import fit_beta_distribution_params, get_test_params"
   ]
  },
  {
   "cell_type": "code",
   "execution_count": 11,
   "metadata": {},
   "outputs": [],
   "source": [
    "N = 150\n",
    "r = 1\n",
    "sigma_sq_X = 36.194\n",
    "sigma_sq_1 = 25.97 \n",
    "sigma_sq_2 = 21.835\n",
    "mu_X = 0\n",
    "mu_epsilon = 0\n",
    "\n",
    "sigma_X = np.sqrt(sigma_sq_X)\n",
    "sigma_1 = np.sqrt(sigma_sq_1)\n",
    "sigma_2 = np.sqrt(sigma_sq_2)\n",
    "\n",
    "n_runs = 100000"
   ]
  },
  {
   "cell_type": "code",
   "execution_count": 12,
   "metadata": {},
   "outputs": [],
   "source": [
    "Js = []\n",
    "\n",
    "for i in range(0, n_runs):\n",
    "    Xn = np.random.normal(mu_X, sigma_X, N)\n",
    "    Yn = Xn + np.random.normal(mu_epsilon, sigma_1, N)\n",
    "    Zn = Xn + np.random.normal(mu_epsilon, sigma_2, N)\n",
    "    \n",
    "    Ir = np.argwhere(rankdata(Yn) == r).flatten()[0]\n",
    "    Js.append(rankdata(Zn)[Ir])\n",
    "    \n",
    "Js = np.array(Js) - 1"
   ]
  },
  {
   "cell_type": "code",
   "execution_count": 13,
   "metadata": {},
   "outputs": [
    {
     "name": "stdout",
     "output_type": "stream",
     "text": [
      "0.10891339924261484 0.018784630826182452\n",
      "0.10652406666666668 0.01905861744301777\n"
     ]
    }
   ],
   "source": [
    "print(_E_P_ZN_ZIr(r=r, sigma_sq_X=sigma_sq_X, sigma_sq_1=sigma_sq_1, sigma_sq_2=sigma_sq_2, N=N),\n",
    "    _var_P_ZN_ZIr(r=r,  sigma_sq_X=sigma_sq_X, sigma_sq_1=sigma_sq_1, sigma_sq_2=sigma_sq_2, N=N))\n",
    "\n",
    "print((Js / N).mean(), (Js/N).var())"
   ]
  },
  {
   "cell_type": "code",
   "execution_count": 14,
   "metadata": {},
   "outputs": [
    {
     "name": "stdout",
     "output_type": "stream",
     "text": [
      "0.45379043515450257 3.71273488046476\n",
      "0.42544568869452415 3.5684469780755275\n"
     ]
    }
   ],
   "source": [
    "alpha, beta = fit_beta_distribution_params(\n",
    "    _E_P_ZN_ZIr(r=r, sigma_sq_X=sigma_sq_X, sigma_sq_1=sigma_sq_1, sigma_sq_2=sigma_sq_2, N=N),\n",
    "    _var_P_ZN_ZIr(r=r,  sigma_sq_X=sigma_sq_X, sigma_sq_1=sigma_sq_1, sigma_sq_2=sigma_sq_2, N=N))\n",
    "\n",
    "alpha_data, beta_data = fit_beta_distribution_params(\n",
    "    (Js/N).mean(),\n",
    "    (Js/N).var())\n",
    "\n",
    "print(alpha, beta)\n",
    "print(alpha_data, beta_data)"
   ]
  },
  {
   "cell_type": "code",
   "execution_count": 15,
   "metadata": {},
   "outputs": [
    {
     "data": {
      "image/png": "[encoded data removed]",
      "text/plain": [
       "<Figure size 432x288 with 1 Axes>"
      ]
     },
     "metadata": {
      "needs_background": "light"
     },
     "output_type": "display_data"
    }
   ],
   "source": [
    "plt.hist(np.array(Js), bins=range(0, N+1))\n",
    "plt.xlim(0, N)\n",
    "plt.xlabel('s')\n",
    "plt.ylabel('Count (/{})'.format(n_runs))\n",
    "\n",
    "plt.plot(np.arange(0, N, 1)+0.5, \n",
    "         betabinom.pmf(np.arange(0, N, 1), N-1, alpha, beta) * n_runs, '.-', c='orange')\n",
    "plt.plot(np.arange(0, N, 1)+0.5, \n",
    "         betabinom.pmf(np.arange(0, N, 1), N-1, alpha_data, beta_data) * n_runs, '.-', c='green')\n",
    "plt.axhline(n_runs / N)\n",
    "\n",
    "# plt.ylim(0, 2000)\n",
    "\n",
    "plt.show()"
   ]
  },
  {
   "cell_type": "code",
   "execution_count": 16,
   "metadata": {},
   "outputs": [],
   "source": [
    "ALPHA_BLOM = 0.4\n",
    "var_ZIr = var_XIr(r=r, sigma_sq_X=sigma_sq_X, sigma_sq_eps=sigma_sq_1, N=N) + sigma_sq_2\n",
    "E_ZIr = (\n",
    "    mu_X + mu_epsilon + \n",
    "    sigma_sq_X / np.sqrt(sigma_sq_X + sigma_sq_1) * \n",
    "    norm.ppf((r - ALPHA_BLOM) / (N - 2 * ALPHA_BLOM + 1))\n",
    ")\n",
    "\n",
    "ZIr = np.random.normal(E_ZIr, np.sqrt(var_ZIr), n_runs)\n",
    "p = norm.cdf((ZIr - (mu_X + mu_epsilon))/np.sqrt(sigma_sq_X + sigma_sq_2))"
   ]
  },
  {
   "cell_type": "code",
   "execution_count": 17,
   "metadata": {},
   "outputs": [
    {
     "name": "stdout",
     "output_type": "stream",
     "text": [
      "0.10838382174532343 0.018763854128459996\n"
     ]
    }
   ],
   "source": [
    "print(p.mean(), p.var())"
   ]
  },
  {
   "cell_type": "code",
   "execution_count": 18,
   "metadata": {},
   "outputs": [
    {
     "data": {
      "image/png": "[encoded data removed]",
      "text/plain": [
       "<Figure size 432x288 with 1 Axes>"
      ]
     },
     "metadata": {
      "needs_background": "light"
     },
     "output_type": "display_data"
    }
   ],
   "source": [
    "plt.hist(p, bins=np.arange(0, 1.01, 0.01))\n",
    "plt.xlim(0, 1)\n",
    "plt.show()"
   ]
  },
  {
   "cell_type": "markdown",
   "metadata": {},
   "source": [
    "# Chi-squared goodness of fit test"
   ]
  },
  {
   "cell_type": "code",
   "execution_count": null,
   "metadata": {},
   "outputs": [
    {
     "name": "stdout",
     "output_type": "stream",
     "text": [
      "Run 902/1000: N=99, r=99, mu_X=-3.857, mu_eps=-3.642, sigma_sq_X=63.689, sigma_sq_1=97.363, sigma_sq_2=48.99           \r"
     ]
    }
   ],
   "source": [
    "from collections import Counter\n",
    "\n",
    "N_RUNS = 10000\n",
    "N_TESTS= 1000\n",
    "\n",
    "r_over_Ns = []\n",
    "p_vals = []\n",
    "\n",
    "for i in range(1, N_TESTS + 1):\n",
    "\n",
    "    params = get_test_params()\n",
    "    N = int(params['N'])\n",
    "    mu_X = params['mu_X']\n",
    "    mu_epsilon = params['mu_epsilon']\n",
    "    sigma_sq_X = params['sigma_sq_X']\n",
    "    sigma_sq_1 = params['sigma_sq_1']\n",
    "    sigma_sq_2 = params['sigma_sq_2']\n",
    "    r = params['r']\n",
    "\n",
    "    sigma_X = np.sqrt(sigma_sq_X)\n",
    "    sigma_1 = np.sqrt(sigma_sq_1)\n",
    "    sigma_2 = np.sqrt(sigma_sq_2)\n",
    "\n",
    "    print(\"Run {}/{}: N={}, r={}, mu_X={}, mu_eps={}, sigma_sq_X={}, sigma_sq_1={}, sigma_sq_2={}      \"\n",
    "          .format(i, N_TESTS, N, r, np.round(mu_X, 3), np.round(mu_epsilon, 3),\n",
    "                  np.round(sigma_sq_X, 3), np.round(sigma_sq_1, 3), np.round(sigma_sq_2, 3)),\n",
    "          end=\"\\r\")\n",
    "\n",
    "    # samples\n",
    "    s = []\n",
    "    for i in range(0, N_RUNS):\n",
    "        Xn = np.random.normal(mu_X, sigma_X, N)\n",
    "        Yn = Xn + np.random.normal(mu_epsilon, sigma_1, N)\n",
    "        Zn = Xn + np.random.normal(mu_epsilon, sigma_2, N)\n",
    "\n",
    "        Ir = np.argwhere(rankdata(Yn) == r).flatten()[0]\n",
    "        s.append(rankdata(Zn)[Ir])\n",
    "\n",
    "    s = np.array(s) - 1\n",
    "\n",
    "    # Count the number of occurances for each modified rank (i.e. s-1)\n",
    "    s_counter = Counter(s)\n",
    "    s_counts = [(s_counter[i] if i in s_counter else 0) for i in np.arange(0, N, 1)]\n",
    "\n",
    "    # theoretical approximation\n",
    "    alpha, beta = fit_beta_distribution_params(\n",
    "        _E_P_ZN_ZIr(r=r, sigma_sq_X=sigma_sq_X, sigma_sq_1=sigma_sq_1, sigma_sq_2=sigma_sq_2, N=N),\n",
    "        _var_P_ZN_ZIr(r=r,  sigma_sq_X=sigma_sq_X, sigma_sq_1=sigma_sq_1, sigma_sq_2=sigma_sq_2, N=N))\n",
    "    \n",
    "    p_val = chisquare(f_obs=s_counts,\n",
    "                      f_exp=betabinom.pmf(np.arange(0, N, 1), N-1, alpha, beta) * N_RUNS,\n",
    "                      ddof=2).pvalue\n",
    "    \n",
    "    r_over_Ns.append(r/N)\n",
    "    p_vals.append(p_val)\n"
   ]
  },
  {
   "cell_type": "code",
   "execution_count": null,
   "metadata": {},
   "outputs": [],
   "source": [
    "print(sum((np.array(p_vals) > 0.05) & (np.array(r_over_Ns) < 0.99)))\n",
    "print(sum(np.array(r_over_Ns) < 0.99))"
   ]
  },
  {
   "cell_type": "code",
   "execution_count": null,
   "metadata": {},
   "outputs": [],
   "source": [
    "sum(np.array(p_vals) > 0.05)"
   ]
  },
  {
   "cell_type": "code",
   "execution_count": 194,
   "metadata": {},
   "outputs": [
    {
     "data": {
      "text/plain": [
       "(array([102.,   7.,  17.,   7.,   5.,   6.,   2.,   4.,   2.,   7.,   4.,\n",
       "          2.,   5.,   5.,   4.,   1.,   2.,   3.,   3.,  12.]),\n",
       " array([0.  , 0.05, 0.1 , 0.15, 0.2 , 0.25, 0.3 , 0.35, 0.4 , 0.45, 0.5 ,\n",
       "        0.55, 0.6 , 0.65, 0.7 , 0.75, 0.8 , 0.85, 0.9 , 0.95, 1.  ]),\n",
       " <a list of 20 Patch objects>)"
      ]
     },
     "execution_count": 194,
     "metadata": {},
     "output_type": "execute_result"
    },
    {
     "data": {
      "image/png": "[encoded data removed]",
      "text/plain": [
       "<Figure size 432x288 with 1 Axes>"
      ]
     },
     "metadata": {
      "needs_background": "light"
     },
     "output_type": "display_data"
    }
   ],
   "source": [
    "plt.hist(p_vals, bins=20)"
   ]
  },
  {
   "cell_type": "code",
   "execution_count": null,
   "metadata": {},
   "outputs": [],
   "source": [
    "plt.plot(r_over_Ns, p_vals, '.')"
   ]
  },
  {
   "cell_type": "code",
   "execution_count": 171,
   "metadata": {},
   "outputs": [
    {
     "data": {
      "text/plain": [
       "[<matplotlib.lines.Line2D at 0x12e9a5c18>]"
      ]
     },
     "execution_count": 171,
     "metadata": {},
     "output_type": "execute_result"
    },
    {
     "data": {
      "image/png": "[encoded data removed]",
      "text/plain": [
       "<Figure size 432x288 with 1 Axes>"
      ]
     },
     "metadata": {
      "needs_background": "light"
     },
     "output_type": "display_data"
    }
   ],
   "source": [
    "plt.hist(np.array(s), bins=range(0, N+1))\n",
    "plt.xlim(0, N)\n",
    "plt.xlabel('s')\n",
    "plt.ylabel('Count (/{})'.format(N_RUNS))\n",
    "\n",
    "plt.plot(np.arange(0, N, 1)+0.5, \n",
    "         betabinom.pmf(np.arange(0, N, 1), N-1, alpha, beta) * N_RUNS, '.-', c='orange')"
   ]
  },
  {
   "cell_type": "markdown",
   "metadata": {},
   "source": [
    "## ------"
   ]
  },
  {
   "cell_type": "code",
   "execution_count": 16,
   "metadata": {},
   "outputs": [],
   "source": [
    "\n",
    "N = 14\n",
    "r = 14\n",
    "s = 14\n",
    "sigma_sq_X = 14.668\n",
    "sigma_sq_1 = 87.297\n",
    "sigma_sq_2 = 24.72"
   ]
  },
  {
   "cell_type": "code",
   "execution_count": 17,
   "metadata": {},
   "outputs": [
    {
     "data": {
      "text/plain": [
       "0.35248749960573933"
      ]
     },
     "execution_count": 17,
     "metadata": {},
     "output_type": "execute_result"
    }
   ],
   "source": [
    "alpha, beta = fit_beta_distribution_params(\n",
    "    _E_P_ZN_ZIr(r=r, sigma_sq_X=sigma_sq_X, sigma_sq_1=sigma_sq_1, sigma_sq_2=sigma_sq_2, N=N),\n",
    "    _var_P_ZN_ZIr(r=r,  sigma_sq_X=sigma_sq_X, sigma_sq_1=sigma_sq_1, sigma_sq_2=sigma_sq_2, N=N))\n",
    "\n",
    "betabinom.pmf(s - 1, N - 1, alpha, beta)"
   ]
  },
  {
   "cell_type": "code",
   "execution_count": 18,
   "metadata": {},
   "outputs": [
    {
     "data": {
      "text/plain": [
       "644.1172338208364"
      ]
     },
     "execution_count": 18,
     "metadata": {},
     "output_type": "execute_result"
    }
   ],
   "source": [
    "_var_XIr_XJs(r=r, s=s, sigma_sq_X=sigma_sq_X, sigma_sq_1=sigma_sq_1, sigma_sq_2=sigma_sq_2, N=N)"
   ]
  },
  {
   "cell_type": "code",
   "execution_count": 19,
   "metadata": {},
   "outputs": [
    {
     "data": {
      "text/plain": [
       "0.0423003914867343"
      ]
     },
     "execution_count": 19,
     "metadata": {},
     "output_type": "execute_result"
    }
   ],
   "source": [
    "sigma_sq_X ** 2 / (sigma_sq_X + sigma_sq_1) / (sigma_sq_X + sigma_sq_2) * \\\n",
    "cov_Yr_Zs(r=r, s=s, sigma_sq_X=sigma_sq_X, sigma_sq_1=sigma_sq_1, sigma_sq_2=sigma_sq_2, N=N)"
   ]
  },
  {
   "cell_type": "code",
   "execution_count": 20,
   "metadata": {},
   "outputs": [
    {
     "data": {
      "text/plain": [
       "8.327515023341478"
      ]
     },
     "execution_count": 20,
     "metadata": {},
     "output_type": "execute_result"
    }
   ],
   "source": [
    "(\n",
    "sigma_sq_X * sigma_sq_1 * sigma_sq_2 /\n",
    "(sigma_sq_X * sigma_sq_1 + sigma_sq_X * sigma_sq_2 + sigma_sq_1 * sigma_sq_2)\n",
    ")"
   ]
  },
  {
   "cell_type": "code",
   "execution_count": 24,
   "metadata": {},
   "outputs": [
    {
     "data": {
      "text/plain": [
       "1.039635754234926"
      ]
     },
     "execution_count": 24,
     "metadata": {},
     "output_type": "execute_result"
    }
   ],
   "source": [
    "(\n",
    "(sigma_sq_X * sigma_sq_1 /\n",
    " (sigma_sq_X * sigma_sq_1 + sigma_sq_X * sigma_sq_2 + sigma_sq_1 * sigma_sq_2)) ** 2 *\n",
    "s * (N - s + 1) / (N + 1) ** 2 / (N + 2) *\n",
    "(sigma_sq_X + sigma_sq_2) / norm.pdf(norm.ppf(s / (N+1))) ** 2 \n",
    ")"
   ]
  },
  {
   "cell_type": "code",
   "execution_count": 22,
   "metadata": {},
   "outputs": [
    {
     "data": {
      "text/plain": [
       "0.49076551682331737"
      ]
     },
     "execution_count": 22,
     "metadata": {},
     "output_type": "execute_result"
    }
   ],
   "source": [
    "(\n",
    "sigma_sq_X ** 2 / (sigma_sq_X + sigma_sq_1) *\n",
    "r * (N - r + 1) / (N + 1) ** 2 / (N + 2) /\n",
    "norm.pdf(norm.ppf(r / (N+1))) ** 2\n",
    ")"
   ]
  },
  {
   "cell_type": "code",
   "execution_count": null,
   "metadata": {},
   "outputs": [],
   "source": []
  }
 ],
 "metadata": {
  "kernelspec": {
   "display_name": "Python 3",
   "language": "python",
   "name": "python3"
  },
  "language_info": {
   "codemirror_mode": {
    "name": "ipython",
    "version": 3
   },
   "file_extension": ".py",
   "mimetype": "text/x-python",
   "name": "python",
   "nbconvert_exporter": "python",
   "pygments_lexer": "ipython3",
   "version": "3.7.3"
  }
 },
 "nbformat": 4,
 "nbformat_minor": 2
}
