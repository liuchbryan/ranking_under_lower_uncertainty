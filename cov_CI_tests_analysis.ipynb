{
 "cells": [
  {
   "cell_type": "code",
   "execution_count": 1,
   "metadata": {},
   "outputs": [
    {
     "name": "stderr",
     "output_type": "stream",
     "text": [
      "/Users/bryan.liu/.local/share/virtualenvs/ranking_under_lower_uncertainty-NLm1LOk1/lib/python3.7/site-packages/pandas/compat/__init__.py:85: UserWarning: Could not import the lzma module. Your installed Python is incomplete. Attempting to use lzma compression will result in a RuntimeError.\n",
      "  warnings.warn(msg)\n",
      "/Users/bryan.liu/.local/share/virtualenvs/ranking_under_lower_uncertainty-NLm1LOk1/lib/python3.7/site-packages/pandas/compat/__init__.py:85: UserWarning: Could not import the lzma module. Your installed Python is incomplete. Attempting to use lzma compression will result in a RuntimeError.\n",
      "  warnings.warn(msg)\n"
     ]
    }
   ],
   "source": [
    "import pickle\n",
    "import os\n",
    "from rulu.covariance_CI_test import *\n",
    "from rulu.utils import find_all_tests_in_same_category\n",
    "from matplotlib import pyplot as plt\n",
    "# from scipy.stats import percentileofscore"
   ]
  },
  {
   "cell_type": "code",
   "execution_count": 2,
   "metadata": {},
   "outputs": [],
   "source": [
    "cov_Yr_Ys_tests = find_all_tests_in_same_category(\n",
    "    CovYrYsCITest(sigma_sq_1=0.5**2), \n",
    "    in_dir=\"./output/cov_CI_tests/\")\n",
    "cov_Yr_Ys_second_order_tests = find_all_tests_in_same_category(\n",
    "    CovYrYsSecondOrderCITest(sigma_sq_1=0.5**2), \n",
    "    in_dir=\"./output/cov_CI_tests/\")\n",
    "cov_Yr_Zs_tests = find_all_tests_in_same_category(\n",
    "    CovYrZsCITest(), in_dir=\"./output/cov_CI_tests/\")\n",
    "cov_Yr_Zs_second_order_tests = find_all_tests_in_same_category(\n",
    "    CovYrZsSecondOrderCITest(), in_dir=\"./output/cov_CI_tests/\")\n",
    "cov_XIr_XJs_tests = find_all_tests_in_same_category(\n",
    "    CovXIrXJsCITest(), in_dir=\"./output/cov_CI_tests/\")\n",
    "cov_XIr_XJs_second_order_tests = find_all_tests_in_same_category(\n",
    "    CovXIrXJsSecondOrderCITest(), in_dir=\"./output/cov_CI_tests/\")\n"
   ]
  },
  {
   "cell_type": "code",
   "execution_count": 3,
   "metadata": {},
   "outputs": [
    {
     "name": "stdout",
     "output_type": "stream",
     "text": [
      "Cov(Y_(r), Y_(s)): 4688/4940 (94.9%) of the tests have the theoretical quantity within the CI.\n",
      "Cov(Y_(r), Y_(s)) - 2nd order: 4940/4940 (100.0%) of the tests have the theoretical quantity within the CI.\n",
      "Cov(Y_(r), Z_(s)): 4663/4940 (94.39%) of the tests have the theoretical quantity within the CI.\n",
      "Cov(Y_(r), Z_(s)) - 2nd order: 4739/4940 (95.93%) of the tests have the theoretical quantity within the CI.\n",
      "Cov(X_I(r), X_J(s)): 4445/4940 (89.98%) of the tests have the theoretical quantity within the CI.\n",
      "Cov(X_I(r), X_J(s)) - 2nd order: 4495/4940 (90.99%) of the tests have the theoretical quantity within the CI.\n"
     ]
    }
   ],
   "source": [
    "for test_collection in [cov_Yr_Ys_tests, cov_Yr_Ys_second_order_tests,\n",
    "                        cov_Yr_Zs_tests, cov_Yr_Zs_second_order_tests, \n",
    "                        cov_XIr_XJs_tests, cov_XIr_XJs_second_order_tests]:\n",
    "    print_test_collection_result(test_collection)"
   ]
  },
  {
   "cell_type": "code",
   "execution_count": 4,
   "metadata": {},
   "outputs": [
    {
     "name": "stdout",
     "output_type": "stream",
     "text": [
      "Cov(Y_(r), Y_(s)): 4688/4940 (94.9%) of the tests have the theoretical quantity within the CI.\n",
      "Cov(Y_(r), Y_(s)) - 2nd order: 4940/4940 (100.0%) of the tests have the theoretical quantity within the CI.\n",
      "Cov(Y_(r), Z_(s)): 4663/4940 (94.39%) of the tests have the theoretical quantity within the CI.\n",
      "Cov(Y_(r), Z_(s)) - 2nd order: 4739/4940 (95.93%) of the tests have the theoretical quantity within the CI.\n",
      "Cov(X_I(r), X_J(s)): 4445/4940 (89.98%) of the tests have the theoretical quantity within the CI.\n",
      "Cov(X_I(r), X_J(s)) - 2nd order: 4495/4940 (90.99%) of the tests have the theoretical quantity within the CI.\n"
     ]
    }
   ],
   "source": [
    "for test_collection in [cov_Yr_Ys_tests, cov_Yr_Ys_second_order_tests,\n",
    "                        cov_Yr_Zs_tests, cov_Yr_Zs_second_order_tests, \n",
    "                        cov_XIr_XJs_tests, cov_XIr_XJs_second_order_tests]:\n",
    "    print_test_collection_result(test_collection)"
   ]
  },
  {
   "cell_type": "code",
   "execution_count": 5,
   "metadata": {},
   "outputs": [
    {
     "data": {
      "image/png": "[encoded data removed]",
      "text/plain": [
       "<Figure size 432x288 with 1 Axes>"
      ]
     },
     "metadata": {
      "needs_background": "light"
     },
     "output_type": "display_data"
    }
   ],
   "source": [
    "test = cov_XIr_XJs_second_order_tests[123]\n",
    "\n",
    "plt.figure()\n",
    "plt.hist(test.samples, bins=50)\n",
    "plt.axvline(test.theoretical_quantity())\n",
    "plt.show()"
   ]
  },
  {
   "cell_type": "code",
   "execution_count": 6,
   "metadata": {},
   "outputs": [
    {
     "data": {
      "image/png": "[encoded data removed]",
      "text/plain": [
       "<Figure size 432x288 with 1 Axes>"
      ]
     },
     "metadata": {
      "needs_background": "light"
     },
     "output_type": "display_data"
    }
   ],
   "source": [
    "test_collection = cov_Yr_Ys_second_order_tests\n",
    "\n",
    "theoretical_quantity_percentiles = [\n",
    "    test.theoretical_quantity_sample_percentile()\n",
    "    for test in test_collection]\n",
    "\n",
    "plt.hist(theoretical_quantity_percentiles, bins=range(0, 105, 5))\n",
    "plt.xlim(0, 100)\n",
    "plt.show()"
   ]
  },
  {
   "cell_type": "code",
   "execution_count": 7,
   "metadata": {},
   "outputs": [
    {
     "data": {
      "image/png": "[encoded data removed]",
      "text/plain": [
       "<Figure size 432x288 with 1 Axes>"
      ]
     },
     "metadata": {
      "needs_background": "light"
     },
     "output_type": "display_data"
    }
   ],
   "source": [
    "test_collection = cov_Yr_Zs_tests\n",
    "\n",
    "theoretical_quantity_percentiles = [\n",
    "    test.theoretical_quantity_sample_percentile()\n",
    "    for test in test_collection]\n",
    "\n",
    "plt.hist(theoretical_quantity_percentiles, bins=range(0, 102, 2))\n",
    "plt.xlim(0, 100)\n",
    "plt.ylim(0, 400)\n",
    "plt.show()"
   ]
  },
  {
   "cell_type": "code",
   "execution_count": 8,
   "metadata": {},
   "outputs": [
    {
     "data": {
      "image/png": "[encoded data removed]",
      "text/plain": [
       "<Figure size 432x288 with 1 Axes>"
      ]
     },
     "metadata": {
      "needs_background": "light"
     },
     "output_type": "display_data"
    }
   ],
   "source": [
    "test_collection = cov_Yr_Zs_second_order_tests\n",
    "\n",
    "theoretical_quantity_percentiles = [\n",
    "    test.theoretical_quantity_sample_percentile()\n",
    "    for test in test_collection]\n",
    "\n",
    "plt.hist(theoretical_quantity_percentiles, bins=range(0, 102, 2))\n",
    "plt.xlim(0, 100)\n",
    "plt.ylim(0, 400)\n",
    "plt.show()"
   ]
  },
  {
   "cell_type": "code",
   "execution_count": 9,
   "metadata": {},
   "outputs": [
    {
     "data": {
      "image/png": "[encoded data removed]",
      "text/plain": [
       "<Figure size 432x288 with 1 Axes>"
      ]
     },
     "metadata": {
      "needs_background": "light"
     },
     "output_type": "display_data"
    }
   ],
   "source": [
    "test_collection = cov_XIr_XJs_tests\n",
    "\n",
    "theoretical_quantity_percentiles = [\n",
    "    test.theoretical_quantity_sample_percentile()\n",
    "    for test in test_collection]\n",
    "\n",
    "plt.hist(theoretical_quantity_percentiles, bins=range(0, 102, 2))\n",
    "plt.xlim(0, 100)\n",
    "plt.show()"
   ]
  },
  {
   "cell_type": "code",
   "execution_count": 10,
   "metadata": {},
   "outputs": [
    {
     "data": {
      "image/png": "[encoded data removed]",
      "text/plain": [
       "<Figure size 432x288 with 1 Axes>"
      ]
     },
     "metadata": {
      "needs_background": "light"
     },
     "output_type": "display_data"
    }
   ],
   "source": [
    "test_collection = cov_XIr_XJs_second_order_tests\n",
    "\n",
    "theoretical_quantity_percentiles = [\n",
    "    test.theoretical_quantity_sample_percentile()\n",
    "    for test in test_collection]\n",
    "\n",
    "plt.hist(theoretical_quantity_percentiles, bins=range(0, 102, 2))\n",
    "plt.xlim(0, 100)\n",
    "plt.show()"
   ]
  },
  {
   "cell_type": "code",
   "execution_count": 13,
   "metadata": {},
   "outputs": [
    {
     "name": "stdout",
     "output_type": "stream",
     "text": [
      "15 15 15     \t 97.573 0.385 0.297 \t 10.26 [23.929 35.769] \t [2.3323 3.4862]\n",
      "52 51 51     \t 31.526 5.911 3.559 \t 2.314 [2.731 5.231] \t [1.18   2.2605]\n",
      "56 55 53     \t 83.327 50.616 0.941 \t 2.155 [3.194 7.677] \t [1.4818 3.5617]\n",
      "23 22 20     \t 22.188 8.516 0.92 \t 0.981 [1.232 2.727] \t [1.2551 2.7791]\n",
      "356 356 355     \t 89.255 14.652 1.875 \t 3.526 [4.716 9.243] \t [1.3375 2.6214]\n",
      "14 14 13     \t 93.714 5.613 0.182 \t 8.746 [10.419 18.561] \t [1.1913 2.1223]\n",
      "10 9 9     \t 80.74 56.31 0.989 \t 6.277 [11.263 20.476] \t [1.7944 3.2623]\n",
      "12 12 12     \t 37.974 15.314 1.428 \t 3.649 [10.054 16.519] \t [2.755  4.5267]\n",
      "23 22 23     \t 20.129 7.228 1.53 \t 1.361 [1.885 4.085] \t [1.3855 3.002 ]\n",
      "25 25 25     \t 61.666 6.995 2.037 \t 6.009 [13.648 21.256] \t [2.2714 3.5376]\n",
      "31 30 31     \t 22.377 9.519 3.424 \t 1.582 [1.915 4.379] \t [1.2105 2.7679]\n",
      "17 12 15     \t 58.611 26.563 0.854 \t 2.15 [2.484 6.414] \t [1.1551 2.9829]\n",
      "30 29 29     \t 4.948 1.331 0.866 \t 0.388 [0.49  0.982] \t [1.2622 2.5315]\n",
      "10 10 9     \t 36.676 1.313 0.481 \t 4.011 [4.652 8.072] \t [1.1597 2.0125]\n",
      "34 34 34     \t 50.477 37.101 5.34 \t 4.351 [ 8.98  16.236] \t [2.0641 3.7319]\n",
      "10 10 10     \t 6.285 0.67 0.04 \t 0.692 [1.825 2.829] \t [2.6374 4.0891]\n",
      "17 16 17     \t 60.428 67.59 1.901 \t 2.336 [ 5.768 13.657] \t [2.4685 5.845 ]\n",
      "10 10 10     \t 0.645 0.772 0.712 \t 0.118 [0.135 0.3  ] \t [1.1361 2.5331]\n",
      "24 20 18     \t 2.407 0.432 0.158 \t 0.107 [0.109 0.231] \t [1.0104 2.1537]\n",
      "11 9 9     \t 32.449 6.985 6.021 \t 3.043 [3.977 7.231] \t [1.3072 2.3765]\n",
      "37 37 36     \t 65.36 6.619 1.248 \t 4.42 [5.508 9.823] \t [1.2462 2.2225]\n",
      "15 14 15     \t 41.383 2.753 0.48 \t 3.782 [4.34  8.138] \t [1.1475 2.1515]\n",
      "240 238 238     \t 44.089 3.884 0.505 \t 1.831 [1.87  3.141] \t [1.0212 1.7154]\n",
      "16 13 12     \t 38.463 73.078 2.965 \t 0.793 [1.354 5.12 ] \t [1.7085 6.4585]\n",
      "10 9 7     \t 0.655 1.865 0.04 \t 0.012 [0.039 0.117] \t [3.2453 9.7827]\n",
      "106 106 106     \t 50.663 3.209 2.316 \t 3.947 [ 8.108 12.996] \t [2.0543 3.2929]\n",
      "14 14 14     \t 4.012 0.663 0.602 \t 0.496 [1.096 1.745] \t [2.2108 3.5184]\n",
      "13 9 10     \t 4.107 6.534 0.87 \t 0.118 [0.138 0.685] \t [1.1643 5.7896]\n",
      "18 12 14     \t 66.373 7.674 0.218 \t 3.686 [3.697 6.632] \t [1.003 1.799]\n",
      "10 9 9     \t 8.299 10.733 0.385 \t 0.45 [1.032 2.13 ] \t [2.2921 4.7295]\n",
      "16 10 8     \t 11.01 14.572 1.486 \t 0.245 [0.278 1.384] \t [1.1323 5.6418]\n",
      "36 36 36     \t 32.786 30.843 6.582 \t 3.251 [ 4.823 10.602] \t [1.4837 3.2616]\n",
      "28 27 26     \t 44.311 4.019 2.699 \t 3.043 [3.35  6.014] \t [1.1007 1.9762]\n",
      "13 13 13     \t 59.674 6.143 0.93 \t 6.394 [16.12  24.859] \t [2.5212 3.8881]\n",
      "108 107 108     \t 79.642 6.599 6.426 \t 4.555 [ 5.118 10.183] \t [1.1234 2.2354]\n",
      "15 15 15     \t 6.516 0.202 0.043 \t 0.685 [1.628 2.494] \t [2.3777 3.6428]\n",
      "20 20 20     \t 10.828 82.894 1.17 \t 0.442 [0.611 2.521] \t [1.3813 5.6995]\n",
      "18 17 17     \t 24.087 9.092 0.3 \t 1.982 [2.881 5.098] \t [1.4535 2.5725]\n",
      "13 13 13     \t 96.013 25.927 0.957 \t 8.871 [25.155 39.543] \t [2.8356 4.4574]\n",
      "273 272 273     \t 29.23 1.127 0.172 \t 1.317 [1.463 2.76 ] \t [1.1102 2.0954]\n",
      "172 171 172     \t 62.448 22.696 4.378 \t 2.932 [3.364 8.386] \t [1.1475 2.8606]\n",
      "61 60 60     \t 93.333 2.6 1.618 \t 7.368 [ 8.56  13.561] \t [1.1618 1.8405]\n",
      "10 9 9     \t 25.035 32.048 26.336 \t 1.603 [2.078 7.016] \t [1.2962 4.3774]\n",
      "10 9 10     \t 24.762 8.401 3.151 \t 2.193 [3.019 6.163] \t [1.377  2.8108]\n",
      "35 35 33     \t 16.335 9.3 0.974 \t 0.645 [0.821 2.111] \t [1.2735 3.2741]\n",
      "31 31 30     \t 86.598 29.022 22.374 \t 6.783 [ 6.986 17.262] \t [1.0299 2.5448]\n",
      "22 18 20     \t 70.984 26.583 0.627 \t 2.925 [3.539 7.927] \t [1.2099 2.71  ]\n",
      "13 13 11     \t 5.437 19.715 0.251 \t 0.108 [0.334 0.978] \t [3.0925 9.0463]\n",
      "18 16 18     \t 71.723 29.907 3.407 \t 3.543 [ 3.57  10.777] \t [1.0076 3.0421]\n",
      "11 11 10     \t 23.551 1.189 0.099 \t 2.429 [2.895 5.047] \t [1.1919 2.0777]\n",
      "20 20 20     \t 61.154 46.72 29.206 \t 8.52 [12.104 24.198] \t [1.4206 2.8401]\n",
      "12 5 7     \t 49.493 16.841 6.919 \t 2.611 [2.994 7.112] \t [1.1467 2.7241]\n",
      "33 33 33     \t 27.977 4.692 4.082 \t 3.018 [6.049 9.886] \t [2.0046 3.2759]\n",
      "20 15 16     \t 31.836 6.888 3.503 \t 1.661 [1.774 3.882] \t [1.0681 2.3371]\n",
      "16 16 15     \t 1.09 0.411 0.132 \t 0.085 [0.116 0.244] \t [1.3714 2.8766]\n",
      "14 11 12     \t 6.208 2.532 0.086 \t 0.362 [0.506 0.961] \t [1.3965 2.6541]\n",
      "28 28 28     \t 18.098 21.487 0.724 \t 1.007 [2.678 5.672] \t [2.659  5.6315]\n",
      "10 9 7     \t 39.061 29.876 4.427 \t 1.825 [2.727 6.987] \t [1.4944 3.8281]\n",
      "17 17 16     \t 89.494 68.076 3.711 \t 4.478 [ 9.175 19.273] \t [2.0489 4.3038]\n",
      "53 52 52     \t 41.993 4.912 0.214 \t 3.157 [3.952 6.282] \t [1.2516 1.9895]\n",
      "24 24 24     \t 15.862 10.381 6.593 \t 2.101 [3.151 6.185] \t [1.4999 2.9439]\n",
      "13 9 8     \t 98.749 17.173 0.219 \t 6.988 [ 7.787 13.586] \t [1.1143 1.944 ]\n",
      "15 14 14     \t 34.631 7.117 2.018 \t 3.64 [5.156 8.269] \t [1.4166 2.2718]\n",
      "20 15 16     \t 61.4 6.754 0.726 \t 3.693 [3.862 6.604] \t [1.0459 1.7883]\n",
      "26 24 25     \t 34.193 13.058 8.726 \t 1.898 [2.147 5.627] \t [1.1309 2.9644]\n",
      "17 11 13     \t 48.13 10.954 4.835 \t 2.384 [2.426 5.595] \t [1.0176 2.3467]\n",
      "10 7 7     \t 41.068 69.642 2.277 \t 1.395 [2.9   7.516] \t [2.0794 5.3885]\n",
      "14 12 13     \t 41.958 14.109 5.088 \t 2.95 [3.88  7.852] \t [1.3152 2.6618]\n",
      "24 24 24     \t 89.766 22.977 11.573 \t 10.027 [20.804 33.517] \t [2.0747 3.3425]\n",
      "13 12 12     \t 71.81 56.155 20.332 \t 5.19 [ 7.884 18.143] \t [1.5191 3.4957]\n",
      "18 18 18     \t 91.344 43.535 26.255 \t 11.808 [21.844 37.705] \t [1.8499 3.1932]\n",
      "15 15 15     \t 14.956 0.698 0.345 \t 1.625 [3.785 5.854] \t [2.3293 3.603 ]\n",
      "12 12 12     \t 8.524 3.239 2.564 \t 1.172 [2.374 3.955] \t [2.0253 3.3745]\n",
      "11 9 9     \t 82.428 11.986 0.289 \t 8.939 [10.788 16.946] \t [1.2069 1.8957]\n",
      "15 15 15     \t 16.248 9.548 0.241 \t 1.193 [3.759 6.365] \t [3.1523 5.3371]\n",
      "40 39 40     \t 19.557 2.216 1.262 \t 1.351 [1.581 3.042] \t [1.1706 2.2516]\n",
      "203 202 202     \t 48.537 17.78 1.123 \t 2.155 [2.315 5.245] \t [1.0743 2.4339]\n",
      "15 15 15     \t 37.685 6.975 0.616 \t 3.697 [ 9.633 15.192] \t [2.6054 4.1088]\n",
      "13 12 13     \t 23.329 1.326 0.394 \t 2.272 [2.718 4.742] \t [1.1966 2.0874]\n",
      "11 11 11     \t 2.513 0.439 0.04 \t 0.266 [0.719 1.08 ] \t [2.7019 4.0616]\n",
      "46 45 43     \t 5.189 0.95 0.054 \t 0.217 [0.237 0.466] \t [1.0916 2.1483]\n",
      "117 117 116     \t 52.848 68.595 2.099 \t 1.412 [2.327 6.772] \t [1.6473 4.7947]\n",
      "26 24 23     \t 92.563 54.554 4.949 \t 3.657 [ 4.669 11.713] \t [1.2767 3.2025]\n",
      "16 13 12     \t 33.274 50.758 1.534 \t 0.788 [1.397 4.46 ] \t [1.7743 5.6628]\n",
      "17 17 17     \t 33.581 11.461 10.939 \t 4.412 [ 8.233 14.089] \t [1.8662 3.1935]\n",
      "12 12 11     \t 83.866 48.487 14.607 \t 6.879 [10.011 20.74 ] \t [1.4553 3.015 ]\n",
      "13 13 13     \t 34.683 1.016 0.495 \t 3.855 [ 9.061 13.676] \t [2.3508 3.5481]\n",
      "14 14 14     \t 20.146 8.533 2.351 \t 2.286 [5.246 8.757] \t [2.2948 3.8309]\n",
      "12 12 12     \t 39.945 9.501 2.28 \t 4.492 [11.269 17.557] \t [2.5089 3.909 ]\n",
      "14 14 14     \t 7.072 11.265 0.531 \t 0.463 [1.338 2.668] \t [2.8875 5.7583]\n",
      "16 15 16     \t 59.385 13.912 12.756 \t 5.094 [ 6.281 13.158] \t [1.2332 2.5832]\n",
      "42 39 40     \t 28.82 3.092 1.282 \t 1.511 [1.515 2.918] \t [1.0024 1.9307]\n",
      "17 17 16     \t 84.838 2.487 1.088 \t 7.843 [ 8.771 15.753] \t [1.1184 2.0086]\n",
      "11 11 11     \t 32.639 27.599 19.984 \t 5.188 [ 7.97  14.842] \t [1.5362 2.8606]\n",
      "16 14 13     \t 83.455 78.907 10.418 \t 3.213 [ 4.407 13.037] \t [1.3719 4.058 ]\n",
      "13 11 11     \t 62.875 1.874 0.59 \t 7.137 [ 8.041 12.071] \t [1.1267 1.6913]\n",
      "17 17 17     \t 85.451 18.086 9.989 \t 10.008 [21.843 35.809] \t [2.1825 3.578 ]\n",
      "10 9 10     \t 23.349 65.41 2.286 \t 1.017 [2.159 6.569] \t [2.1218 6.4573]\n",
      "13 12 12     \t 77.595 83.521 53.709 \t 4.889 [ 6.678 19.169] \t [1.3659 3.921 ]\n",
      "10 10 7     \t 5.921 5.955 0.074 \t 0.159 [0.26  0.855] \t [1.6416 5.3912]\n",
      "69 68 68     \t 26.81 1.515 0.086 \t 1.974 [2.35  3.715] \t [1.19   1.8814]\n",
      "12 12 12     \t 62.328 8.18 2.859 \t 7.218 [17.669 26.656] \t [2.4479 3.693 ]\n",
      "16 14 16     \t 0.775 0.266 0.04 \t 0.042 [0.044 0.116] \t [1.0267 2.7429]\n",
      "23 18 15     \t 78.903 17.321 0.29 \t 2.999 [3.011 6.404] \t [1.0039 2.135 ]\n",
      "12 12 12     \t 90.555 70.787 18.926 \t 10.942 [22.989 40.216] \t [2.1009 3.6753]\n",
      "18 16 17     \t 8.29 3.692 1.986 \t 0.496 [0.605 1.539] \t [1.2194 3.1018]\n",
      "23 22 23     \t 35.977 0.722 0.558 \t 3.057 [3.349 6.047] \t [1.0957 1.9781]\n",
      "10 10 10     \t 18.603 25.328 4.045 \t 2.089 [4.312 8.2  ] \t [2.0646 3.9258]\n",
      "14 14 14     \t 58.1 26.56 8.834 \t 6.891 [15.188 25.074] \t [2.204  3.6385]\n",
      "31 28 29     \t 84.8 8.705 7.9 \t 4.863 [5.049 9.75 ] \t [1.0384 2.0051]\n"
     ]
    },
    {
     "name": "stdout",
     "output_type": "stream",
     "text": [
      "19 16 14     \t 14.713 17.929 0.337 \t 0.319 [0.528 1.689] \t [1.6543 5.2919]\n",
      "19 17 16     \t 43.127 29.796 2.281 \t 1.772 [2.496 6.089] \t [1.408  3.4353]\n",
      "15 14 15     \t 69.557 15.81 4.576 \t 5.641 [ 7.112 14.95 ] \t [1.2608 2.65  ]\n",
      "12 10 10     \t 87.602 98.953 51.554 \t 4.164 [ 5.422 19.076] \t [1.3022 4.5817]\n",
      "18 9 9     \t 65.948 19.504 0.746 \t 3.483 [3.612 7.   ] \t [1.0371 2.0099]\n",
      "15 15 14     \t 9.497 2.365 0.35 \t 0.724 [1.084 1.993] \t [1.4974 2.7536]\n",
      "24 24 24     \t 88.613 74.4 28.349 \t 10.909 [16.979 32.44 ] \t [1.5564 2.9737]\n",
      "12 12 11     \t 27.956 47.831 2.279 \t 1.283 [3.043 6.87 ] \t [2.3723 5.3563]\n",
      "22 22 22     \t 9.93 7.923 2.766 \t 1.196 [1.892 3.712] \t [1.5815 3.103 ]\n",
      "10 10 10     \t 10.352 6.27 0.279 \t 0.866 [2.837 4.681] \t [3.2741 5.4023]\n",
      "13 7 7     \t 98.247 5.868 0.298 \t 8.907 [ 9.263 14.478] \t [1.0399 1.6254]\n",
      "12 11 11     \t 36.84 13.375 0.603 \t 3.569 [5.527 9.032] \t [1.5486 2.5307]\n",
      "10 8 8     \t 15.753 0.244 0.167 \t 2.058 [2.333 3.406] \t [1.1339 1.6555]\n",
      "11 9 11     \t 27.331 79.216 1.327 \t 0.627 [1.171 5.672] \t [1.8683 9.0517]\n",
      "20 18 18     \t 38.928 57.62 6.67 \t 1.304 [1.51  6.265] \t [1.1578 4.8038]\n",
      "198 198 197     \t 57.822 0.717 0.052 \t 2.849 [3.175 5.584] \t [1.1145 1.9601]\n",
      "16 16 15     \t 99.682 16.521 1.305 \t 7.824 [10.949 19.602] \t [1.3994 2.5054]\n",
      "13 11 11     \t 97.225 4.883 2.172 \t 10.791 [12.46  18.738] \t [1.1547 1.7365]\n",
      "10 6 7     \t 65.253 2.806 0.224 \t 6.414 [ 6.555 10.47 ] \t [1.0219 1.6324]\n",
      "18 15 16     \t 2.538 1.056 0.56 \t 0.132 [0.148 0.395] \t [1.1172 2.9829]\n",
      "107 105 106     \t 31.576 5.805 1.312 \t 1.377 [1.541 3.132] \t [1.1194 2.2753]\n",
      "11 10 9     \t 4.33 48.658 0.747 \t 0.069 [0.177 0.825] \t [ 2.5757 11.9803]\n",
      "18 14 15     \t 42.212 36.082 0.775 \t 1.403 [2.121 5.307] \t [1.5119 3.7836]\n",
      "14 14 14     \t 97.028 20.236 10.504 \t 11.642 [26.545 42.318] \t [2.2801 3.6349]\n",
      "47 47 47     \t 23.287 19.566 12.638 \t 2.985 [3.06  7.425] \t [1.0252 2.4871]\n",
      "29 28 29     \t 11.57 12.933 0.778 \t 0.5 [0.799 2.306] \t [1.5987 4.6157]\n",
      "25 25 25     \t 99.778 3.522 0.878 \t 9.296 [21.528 33.151] \t [2.3158 3.5661]\n",
      "10 10 10     \t 58.028 33.883 0.848 \t 4.627 [15.814 26.068] \t [3.418  5.6341]\n",
      "11 8 8     \t 73.367 0.915 0.135 \t 8.498 [ 9.073 13.418] \t [1.0676 1.5789]\n",
      "22 22 22     \t 65.971 1.504 0.446 \t 6.324 [14.175 22.561] \t [2.2417 3.5678]\n",
      "14 14 13     \t 57.154 8.544 0.129 \t 4.677 [ 6.533 11.554] \t [1.3968 2.4704]\n",
      "12 5 7     \t 32.04 14.431 0.618 \t 1.557 [2.051 4.339] \t [1.3177 2.7876]\n",
      "10 10 10     \t 4.13 0.155 0.04 \t 0.485 [1.154 1.794] \t [2.3799 3.7022]\n",
      "24 21 22     \t 4.605 6.303 0.382 \t 0.116 [0.157 0.595] \t [1.3539 5.1266]\n",
      "13 13 13     \t 58.008 57.6 32.962 \t 8.915 [12.914 25.61 ] \t [1.4486 2.8726]\n",
      "17 13 13     \t 34.41 4.347 1.824 \t 2.557 [2.663 4.69 ] \t [1.0413 1.8337]\n",
      "298 297 297     \t 88.875 1.765 0.285 \t 4.769 [5.562 8.553] \t [1.1662 1.7933]\n",
      "10 10 10     \t 90.998 72.713 5.615 \t 7.958 [23.974 41.381] \t [3.0126 5.2   ]\n",
      "22 22 22     \t 11.046 0.696 0.137 \t 1.06 [2.491 3.952] \t [2.3487 3.7264]\n",
      "12 10 9     \t 2.597 0.269 0.17 \t 0.221 [0.247 0.43 ] \t [1.117  1.9435]\n",
      "19 19 19     \t 23.217 24.343 2.143 \t 1.856 [4.432 8.369] \t [2.3882 4.5091]\n",
      "15 15 14     \t 69.633 4.95 0.079 \t 6.232 [ 7.542 13.608] \t [1.2102 2.1836]\n",
      "10 7 9     \t 47.225 33.117 29.877 \t 2.436 [2.484 9.221] \t [1.0199 3.7858]\n",
      "65 64 64     \t 8.233 3.485 0.914 \t 0.475 [0.555 1.251] \t [1.1681 2.6322]\n",
      "41 40 41     \t 34.797 11.483 3.615 \t 2.25 [2.794 6.044] \t [1.2421 2.6864]\n",
      "20 20 20     \t 23.959 33.796 7.722 \t 2.83 [4.041 8.655] \t [1.4277 3.058 ]\n",
      "26 26 26     \t 22.746 2.164 1.89 \t 2.382 [5.111 8.157] \t [2.1461 3.425 ]\n",
      "44 44 44     \t 99.946 24.932 17.419 \t 10.716 [19.936 33.595] \t [1.8604 3.135 ]\n",
      "15 11 11     \t 75.472 71.824 12.713 \t 2.914 [ 3.296 11.282] \t [1.1309 3.8718]\n",
      "20 20 19     \t 43.362 33.878 2.748 \t 2.278 [4.246 9.092] \t [1.8638 3.9911]\n",
      "15 15 15     \t 79.655 2.875 0.635 \t 8.385 [19.665 30.507] \t [2.3453 3.6382]\n",
      "17 17 17     \t 0.968 1.207 0.04 \t 0.057 [0.179 0.349] \t [3.1192 6.0715]\n",
      "14 14 14     \t 15.696 15.896 10.72 \t 2.485 [3.099 6.625] \t [1.2473 2.6662]\n",
      "12 11 11     \t 18.239 12.398 3.244 \t 1.434 [2.299 4.767] \t [1.603  3.3236]\n",
      "14 9 9     \t 19.299 31.51 1.508 \t 0.498 [0.788 2.7  ] \t [1.5817 5.4208]\n",
      "16 16 16     \t 45.081 49.417 25.071 \t 6.695 [ 8.848 18.387] \t [1.3216 2.7464]\n",
      "22 22 21     \t 32.897 12.283 2.98 \t 2.289 [3.31  6.577] \t [1.4458 2.8729]\n",
      "35 35 35     \t 89.223 1.827 0.594 \t 7.658 [17.488 26.7  ] \t [2.2835 3.4863]\n",
      "10 9 8     \t 30.929 4.508 3.011 \t 2.877 [3.576 6.25 ] \t [1.2429 2.1721]\n",
      "13 10 12     \t 41.717 10.728 7.875 \t 2.516 [2.644 6.548] \t [1.0509 2.6026]\n",
      "14 13 14     \t 94.963 71.711 20.611 \t 7.758 [ 9.502 24.255] \t [1.2247 3.1263]\n",
      "11 11 11     \t 53.75 72.443 36.85 \t 8.895 [11.1   23.523] \t [1.2479 2.6445]\n",
      "10 6 7     \t 4.028 12.746 0.601 \t 0.079 [0.175 0.74 ] \t [2.207  9.3417]\n",
      "46 44 45     \t 96.689 38.436 4.587 \t 4.316 [ 5.215 12.398] \t [1.2084 2.8729]\n",
      "18 18 18     \t 95.782 97.858 59.235 \t 14.341 [17.609 37.489] \t [1.2279 2.6142]\n",
      "13 13 13     \t 85.751 28.931 17.323 \t 11.088 [23.185 38.549] \t [2.0909 3.4766]\n",
      "14 14 14     \t 98.286 86.947 2.669 \t 6.574 [22.536 38.432] \t [3.4277 5.8456]\n",
      "12 10 12     \t 24.246 9.259 0.615 \t 1.332 [1.525 4.045] \t [1.1449 3.0371]\n",
      "10 9 10     \t 63.783 75.521 11.092 \t 4.687 [ 7.123 17.854] \t [1.5198 3.8095]\n",
      "25 25 25     \t 16.462 6.545 1.314 \t 1.594 [3.621 5.906] \t [2.2715 3.7051]\n",
      "10 9 10     \t 6.075 42.97 1.324 \t 0.386 [0.427 1.599] \t [1.1059 4.1458]\n",
      "13 13 13     \t 1.871 4.704 0.082 \t 0.08 [0.302 0.653] \t [3.7854 8.1919]\n",
      "12 9 10     \t 30.398 10.376 7.866 \t 1.927 [2.422 5.658] \t [1.2569 2.9358]\n",
      "12 9 11     \t 98.024 35.837 2.85 \t 5.51 [ 6.654 15.163] \t [1.2077 2.752 ]\n",
      "24 24 24     \t 92.364 0.843 0.081 \t 8.517 [19.686 29.967] \t [2.3113 3.5184]\n",
      "24 22 20     \t 60.656 15.286 1.331 \t 2.777 [3.092 6.33 ] \t [1.1134 2.2796]\n",
      "13 11 11     \t 66.397 13.079 2.19 \t 6.328 [ 7.819 12.946] \t [1.2357 2.0458]\n",
      "49 48 48     \t 61.441 14.76 6.948 \t 4.397 [5.449 9.951] \t [1.2392 2.2632]\n",
      "15 14 12     \t 60.974 21.878 3.556 \t 3.239 [3.922 8.524] \t [1.2107 2.6314]\n",
      "12 9 11     \t 79.196 43.237 8.752 \t 4.016 [ 5.165 12.976] \t [1.2862 3.2312]\n",
      "10 8 6     \t 16.216 37.385 1.984 \t 0.361 [0.899 2.973] \t [2.4889 8.2314]\n",
      "32 31 32     \t 67.158 12.901 7.394 \t 4.852 [ 5.813 11.683] \t [1.1981 2.4081]\n",
      "27 26 27     \t 55.618 86.706 0.989 \t 1.389 [ 3.646 10.895] \t [2.6244 7.8416]\n",
      "23 16 16     \t 10.887 9.602 0.319 \t 0.29 [0.317 1.036] \t [1.0939 3.5694]\n",
      "10 9 9     \t 10.158 0.743 0.319 \t 1.406 [1.878 2.82 ] \t [1.3357 2.0058]\n",
      "11 8 8     \t 97.423 60.521 6.689 \t 6.173 [ 9.12  17.469] \t [1.4773 2.8298]\n",
      "24 23 24     \t 75.055 6.569 2.509 \t 5.902 [ 6.982 12.777] \t [1.1829 2.1649]\n",
      "17 16 16     \t 1.26 0.567 0.183 \t 0.103 [0.148 0.284] \t [1.4305 2.7533]\n",
      "19 15 15     \t 87.011 20.712 12.033 \t 5.186 [ 5.316 11.643] \t [1.0249 2.245 ]\n",
      "28 26 27     \t 38.802 4.712 0.801 \t 2.57 [2.895 5.182] \t [1.1264 2.016 ]\n",
      "15 11 12     \t 98.888 19.546 1.276 \t 6.549 [ 7.675 13.394] \t [1.1719 2.0453]\n",
      "20 19 19     \t 87.85 4.63 3.115 \t 9.58 [11.909 18.643] \t [1.2431 1.946 ]\n",
      "32 32 32     \t 78.603 99.747 36.393 \t 10.014 [10.157 25.534] \t [1.0143 2.5498]\n",
      "10 8 8     \t 87.002 23.548 0.549 \t 8.678 [11.461 18.88 ] \t [1.3208 2.1757]\n",
      "31 31 31     \t 83.968 8.783 1.05 \t 7.306 [17.604 27.202] \t [2.4095 3.7232]\n",
      "12 9 10     \t 63.518 10.669 6.734 \t 4.991 [ 5.916 10.943] \t [1.1852 2.1924]\n",
      "18 11 9     \t 86.48 70.587 1.424 \t 2.323 [3.208 8.991] \t [1.3808 3.8702]\n",
      "10 9 9     \t 30.676 33.08 22.49 \t 2.081 [2.91  8.773] \t [1.3984 4.2158]\n",
      "39 39 39     \t 94.748 33.612 30.134 \t 11.201 [18.395 32.64 ] \t [1.6422 2.9139]\n",
      "12 12 12     \t 40.851 33.859 9.578 \t 5.058 [10.301 17.641] \t [2.0364 3.4874]\n",
      "10 10 10     \t 92.89 35.89 14.967 \t 11.965 [27.834 44.52 ] \t [2.3264 3.721 ]\n",
      "21 19 18     \t 65.725 2.577 1.034 \t 4.766 [4.92  7.896] \t [1.0324 1.6568]\n",
      "18 9 11     \t 58.363 98.527 2.273 \t 0.919 [1.294 6.271] \t [1.4073 6.8205]\n",
      "21 21 21     \t 25.636 36.759 5.528 \t 2.545 [4.318 8.94 ] \t [1.6966 3.513 ]\n",
      "14 9 9     \t 27.455 1.472 1.41 \t 2.352 [2.527 4.116] \t [1.0745 1.7499]\n",
      "12 12 12     \t 7.494 1.608 0.04 \t 0.72 [2.062 3.17 ] \t [2.8643 4.4033]\n",
      "32 32 32     \t 82.254 59.715 46.892 \t 11.105 [12.97  28.356] \t [1.1679 2.5534]\n",
      "25 23 20     \t 36.519 15.268 1.962 \t 1.228 [1.3   3.622] \t [1.0584 2.9485]\n",
      "16 16 16     \t 55.925 14.173 6.956 \t 6.622 [14.701 23.392] \t [2.2201 3.5325]\n",
      "29 29 29     \t 44.703 12.237 4.884 \t 4.712 [ 9.816 16.272] \t [2.0835 3.4537]\n"
     ]
    },
    {
     "name": "stdout",
     "output_type": "stream",
     "text": [
      "10 10 10     \t 41.952 89.889 13.424 \t 5.104 [ 8.179 17.595] \t [1.6026 3.4477]\n",
      "30 30 30     \t 11.429 6.618 0.385 \t 0.824 [2.139 3.838] \t [2.596  4.6575]\n",
      "16 16 16     \t 47.266 49.051 41.179 \t 7.685 [ 8.069 18.865] \t [1.05   2.4549]\n",
      "35 35 35     \t 58.756 14.332 2.749 \t 5.282 [12.029 19.803] \t [2.2772 3.7489]\n",
      "10 9 10     \t 6.948 9.367 0.141 \t 0.251 [0.767 1.818] \t [3.0577 7.2512]\n",
      "14 13 14     \t 48.711 10.892 0.15 \t 3.617 [ 5.296 10.247] \t [1.4643 2.8333]\n",
      "209 209 208     \t 90.313 7.036 5.5 \t 4.558 [5.113 9.935] \t [1.1218 2.1796]\n",
      "17 8 9     \t 74.383 39.635 7.314 \t 2.928 [3.107 8.859] \t [1.061  3.0257]\n",
      "186 186 186     \t 34.321 4.604 0.056 \t 1.958 [4.658 7.789] \t [2.3787 3.9775]\n",
      "10 10 10     \t 1.271 2.446 0.316 \t 0.14 [0.273 0.547] \t [1.9481 3.9067]\n",
      "10 10 10     \t 49.921 3.861 0.054 \t 5.504 [14.383 21.698] \t [2.6134 3.9424]\n",
      "33 31 31     \t 55.497 0.518 0.28 \t 4.35 [4.506 6.988] \t [1.0357 1.6062]\n",
      "17 14 13     \t 53.437 56.325 7.125 \t 1.701 [2.176 7.365] \t [1.2791 4.33  ]\n",
      "10 10 9     \t 72.195 40.696 26.056 \t 7.157 [ 8.769 19.632] \t [1.2253 2.7431]\n",
      "27 27 25     \t 37.316 5.855 0.069 \t 1.99 [2.143 4.365] \t [1.0766 2.1934]\n",
      "95 95 94     \t 68.881 4.041 3.09 \t 3.992 [4.577 8.4  ] \t [1.1465 2.1041]\n",
      "24 23 23     \t 61.657 27.732 2.123 \t 4.402 [ 6.189 11.866] \t [1.406  2.6954]\n",
      "13 13 13     \t 9.366 2.405 1.92 \t 1.214 [2.626 4.15 ] \t [2.1624 3.4171]\n",
      "16 15 15     \t 31.778 3.979 1.165 \t 3.517 [4.67  7.362] \t [1.3278 2.0933]\n",
      "10 10 10     \t 90.49 92.797 10.076 \t 8.57 [23.513 41.015] \t [2.7438 4.7862]\n",
      "17 16 15     \t 9.851 0.316 0.04 \t 0.852 [0.87 1.45] \t [1.0211 1.7011]\n",
      "21 19 20     \t 35.805 64.418 5.493 \t 1.076 [1.428 5.825] \t [1.327  5.4112]\n",
      "10 8 8     \t 17.538 2.492 0.141 \t 2.004 [2.482 3.936] \t [1.2388 1.9642]\n",
      "10 6 6     \t 2.405 2.085 1.363 \t 0.113 [0.148 0.486] \t [1.3083 4.2896]\n",
      "15 15 15     \t 51.531 36.912 3.626 \t 4.519 [12.117 20.788] \t [2.6815 4.6004]\n",
      "15 14 15     \t 72.035 2.522 0.978 \t 6.883 [ 7.767 13.725] \t [1.1283 1.994 ]\n",
      "11 11 11     \t 43.881 23.386 9.259 \t 5.682 [11.976 20.753] \t [2.1078 3.6525]\n",
      "35 33 31     \t 29.621 10.904 0.274 \t 1.027 [1.248 2.729] \t [1.2145 2.6568]\n",
      "23 22 23     \t 74.367 0.533 0.163 \t 6.428 [ 7.219 12.296] \t [1.1231 1.9129]\n",
      "13 13 12     \t 25.183 25.624 0.586 \t 1.042 [2.902 5.779] \t [2.7856 5.5478]\n",
      "16 16 15     \t 84.353 9.854 2.009 \t 7.161 [ 9.334 16.652] \t [1.3034 2.3253]\n",
      "10 10 10     \t 59.822 29.186 10.903 \t 7.693 [17.459 28.562] \t [2.2695 3.7128]\n",
      "10 8 8     \t 99.51 0.333 0.209 \t 13.183 [14.314 21.246] \t [1.0858 1.6116]\n",
      "97 97 97     \t 92.319 2.863 2.03 \t 6.761 [14.529 22.842] \t [2.1488 3.3784]\n",
      "11 11 11     \t 16.936 10.24 0.274 \t 1.317 [4.508 7.364] \t [3.4225 5.59  ]\n",
      "19 17 19     \t 57.337 61.362 1.722 \t 1.681 [2.706 9.697] \t [1.6096 5.7677]\n",
      "17 17 17     \t 64.689 4.556 3.631 \t 7.129 [16.158 25.252] \t [2.2664 3.542 ]\n",
      "120 120 120     \t 95.09 7.374 0.348 \t 6.109 [14.373 22.848] \t [2.3528 3.7402]\n",
      "10 10 10     \t 26.5 14.304 0.17 \t 2.081 [ 7.18 11.86] \t [3.4507 5.7001]\n",
      "10 10 10     \t 24.551 12.672 8.846 \t 3.566 [ 7.126 11.975] \t [1.9981 3.3579]\n",
      "16 10 10     \t 22.793 0.498 0.453 \t 1.824 [1.871 2.819] \t [1.0257 1.5457]\n",
      "20 19 20     \t 86.381 7.089 0.146 \t 6.928 [ 8.533 15.278] \t [1.2316 2.2051]\n",
      "15 14 14     \t 5.844 47.646 0.54 \t 0.076 [0.216 1.062] \t [ 2.838  13.9549]\n",
      "21 21 21     \t 95.152 27.041 4.565 \t 9.177 [22.592 35.229] \t [2.4618 3.8389]\n",
      "10 9 10     \t 29.902 4.463 0.177 \t 2.765 [3.73  6.984] \t [1.3488 2.5254]\n",
      "23 23 22     \t 8.421 0.258 0.218 \t 0.706 [0.783 1.413] \t [1.1086 2.001 ]\n",
      "11 11 11     \t 96.352 2.94 0.423 \t 10.908 [26.651 40.452] \t [2.4434 3.7086]\n",
      "34 27 28     \t 52.88 21.226 0.595 \t 1.605 [1.616 3.977] \t [1.0072 2.478 ]\n",
      "18 14 14     \t 98.645 10.335 8.39 \t 7.111 [ 7.524 13.305] \t [1.0581 1.871 ]\n",
      "13 7 10     \t 22.073 26.243 3.367 \t 0.577 [0.579 3.128] \t [1.0042 5.4229]\n",
      "15 14 15     \t 52.333 6.884 2.166 \t 4.528 [ 5.741 10.616] \t [1.268  2.3445]\n",
      "27 25 20     \t 77.307 38.79 1.49 \t 1.785 [1.878 5.834] \t [1.0517 3.2673]\n",
      "60 60 59     \t 59.311 0.161 0.04 \t 3.923 [4.297 7.34 ] \t [1.0952 1.8708]\n",
      "15 12 13     \t 45.866 3.193 2.372 \t 3.676 [3.97  6.577] \t [1.0801 1.7894]\n",
      "29 28 27     \t 1.004 0.24 0.11 \t 0.06 [0.069 0.144] \t [1.1438 2.3902]\n",
      "23 20 18     \t 68.597 20.909 0.434 \t 2.832 [3.262 6.664] \t [1.1519 2.3533]\n",
      "21 20 19     \t 49.396 2.225 1.186 \t 3.91 [4.126 6.972] \t [1.0553 1.7832]\n",
      "21 20 19     \t 71.41 33.829 25.464 \t 3.954 [ 4.76  12.945] \t [1.204  3.2742]\n",
      "19 19 19     \t 25.324 1.974 0.127 \t 2.416 [5.933 9.267] \t [2.4556 3.8357]\n",
      "15 7 8     \t 19.418 38.67 3.287 \t 0.376 [0.444 2.691] \t [1.1809 7.1508]\n",
      "16 16 16     \t 16.743 3.118 0.623 \t 1.74 [4.231 6.739] \t [2.4318 3.8732]\n",
      "12 12 12     \t 52.459 71.791 6.293 \t 4.492 [11.215 21.502] \t [2.4965 4.7862]\n",
      "20 19 20     \t 28.891 28.191 0.612 \t 1.082 [2.566 6.24 ] \t [2.3708 5.7654]\n",
      "22 22 22     \t 78.553 88.189 5.773 \t 5.549 [14.54  27.053] \t [2.6202 4.8753]\n",
      "31 30 31     \t 86.37 0.449 0.422 \t 6.836 [ 7.601 13.013] \t [1.112  1.9035]\n",
      "30 30 30     \t 14.121 8.772 4.701 \t 1.743 [2.553 5.144] \t [1.4648 2.9507]\n",
      "12 12 12     \t 78.009 22.318 2.822 \t 8.046 [21.47  33.972] \t [2.6685 4.2224]\n",
      "18 18 18     \t 68.445 22.79 15.373 \t 8.567 [16.421 28.095] \t [1.9168 3.2796]\n",
      "13 13 13     \t 40.69 38.585 3.872 \t 3.609 [ 9.561 16.723] \t [2.649  4.6332]\n",
      "20 19 20     \t 1.62 0.856 0.47 \t 0.139 [0.146 0.373] \t [1.0488 2.6837]\n",
      "16 16 16     \t 14.192 1.415 0.129 \t 1.415 [3.544 5.441] \t [2.5041 3.8442]\n",
      "28 26 28     \t 7.04 4.982 0.419 \t 0.27 [0.296 1.044] \t [1.0998 3.8746]\n",
      "31 31 31     \t 44.913 4.739 3.151 \t 4.515 [ 9.763 15.295] \t [2.1623 3.3876]\n",
      "17 12 12     \t 22.01 1.606 1.499 \t 1.614 [1.665 2.783] \t [1.0314 1.7242]\n",
      "13 12 13     \t 58.49 24.235 6.993 \t 4.664 [ 6.385 13.671] \t [1.369  2.9312]\n",
      "14 7 8     \t 49.772 9.027 0.633 \t 3.266 [3.606 6.449] \t [1.1044 1.9749]\n",
      "76 76 76     \t 57.387 7.355 1.543 \t 4.453 [ 9.913 15.723] \t [2.2263 3.5311]\n",
      "15 11 11     \t 14.351 6.989 4.559 \t 0.712 [0.76  2.255] \t [1.0676 3.1662]\n",
      "21 21 21     \t 18.784 18.364 2.856 \t 1.799 [3.5   6.877] \t [1.9461 3.8236]\n",
      "16 16 16     \t 18.483 12.746 4.227 \t 2.242 [4.396 7.606] \t [1.9605 3.3919]\n",
      "10 10 10     \t 15.395 11.408 2.025 \t 1.689 [4.145 7.098] \t [2.4545 4.2037]\n",
      "11 11 11     \t 8.496 11.713 8.64 \t 1.539 [1.612 3.592] \t [1.0475 2.3338]\n",
      "16 14 14     \t 11.575 14.449 3.699 \t 0.481 [0.554 2.138] \t [1.1506 4.4424]\n",
      "23 21 20     \t 10.787 2.094 0.543 \t 0.643 [0.722 1.391] \t [1.1224 2.1621]\n",
      "11 8 8     \t 27.037 27.147 8.577 \t 1.281 [1.684 5.322] \t [1.3145 4.1555]\n",
      "13 11 12     \t 9.676 4.009 3.216 \t 0.637 [0.864 1.987] \t [1.3564 3.1192]\n",
      "14 13 12     \t 57.53 14.446 5.268 \t 4.337 [ 5.486 10.561] \t [1.2651 2.4354]\n",
      "40 40 40     \t 59.494 38.045 18.842 \t 7.007 [ 9.906 20.248] \t [1.4137 2.8896]\n",
      "18 17 16     \t 12.428 6.405 1.318 \t 0.699 [0.982 2.145] \t [1.4046 3.0671]\n",
      "18 17 18     \t 24.271 35.998 3.696 \t 1.465 [1.932 5.723] \t [1.3182 3.9057]\n",
      "13 13 13     \t 0.311 1.279 0.06 \t 0.024 [0.042 0.103] \t [1.7602 4.3245]\n",
      "12 11 11     \t 1.702 7.581 0.079 \t 0.03 [0.122 0.346] \t [ 4.0684 11.5618]\n",
      "18 18 18     \t 30.539 18.013 11.364 \t 4.116 [ 6.732 12.473] \t [1.6353 3.03  ]\n",
      "13 12 9     \t 30.983 66.022 1.425 \t 0.514 [1.278 4.381] \t [2.4869 8.5286]\n",
      "13 12 12     \t 80.777 25.719 21.998 \t 7.572 [11.221 21.518] \t [1.4819 2.8419]\n",
      "29 28 28     \t 72.339 41.148 18.429 \t 4.646 [ 5.887 14.224] \t [1.2672 3.0617]\n",
      "13 12 11     \t 5.657 0.281 0.04 \t 0.534 [0.541 0.933] \t [1.0143 1.7482]\n",
      "21 21 21     \t 75.126 43.874 31.987 \t 10.148 [15.881 30.971] \t [1.5648 3.0518]\n",
      "24 20 19     \t 28.805 5.1 2.026 \t 1.459 [1.52  3.014] \t [1.0417 2.0654]\n",
      "12 11 10     \t 46.567 3.538 2.066 \t 4.392 [4.914 8.332] \t [1.1189 1.8972]\n",
      "12 12 12     \t 29.402 84.752 1.037 \t 1.074 [ 4.706 10.221] \t [4.3801 9.5127]\n",
      "12 11 11     \t 95.657 76.241 18.343 \t 7.023 [11.611 23.917] \t [1.6533 3.4058]\n",
      "15 14 14     \t 75.043 10.184 0.258 \t 8.288 [11.134 17.238] \t [1.3434 2.08  ]\n",
      "34 34 34     \t 86.503 54.961 49.787 \t 11.508 [13.56  29.729] \t [1.1783 2.5833]\n",
      "33 32 33     \t 42.222 15.575 6.12 \t 2.97 [3.532 8.267] \t [1.1893 2.7833]\n",
      "23 22 23     \t 69.177 13.861 5.836 \t 5.241 [ 6.584 13.148] \t [1.2564 2.5088]\n",
      "19 18 17     \t 57.634 1.21 0.066 \t 4.832 [4.936 8.168] \t [1.0215 1.6905]\n",
      "13 11 12     \t 15.435 48.611 3.412 \t 0.44 [0.748 3.06 ] \t [1.701  6.9554]\n",
      "62 61 62     \t 19.335 0.435 0.337 \t 1.248 [1.357 2.471] \t [1.0873 1.9794]\n",
      "44 44 43     \t 38.554 10.203 7.209 \t 2.742 [3.079 6.753] \t [1.123  2.4631]\n",
      "12 12 12     \t 85.216 10.845 1.402 \t 9.173 [23.226 35.985] \t [2.532  3.9229]\n"
     ]
    },
    {
     "name": "stdout",
     "output_type": "stream",
     "text": [
      "31 31 31     \t 31.973 0.755 0.717 \t 2.917 [ 6.486 10.076] \t [2.2233 3.4537]\n",
      "64 62 60     \t 41.231 13.922 0.332 \t 1.197 [1.297 3.141] \t [1.084  2.6254]\n",
      "10 10 10     \t 69.705 15.016 3.683 \t 8.146 [20.402 31.974] \t [2.5046 3.9253]\n",
      "11 11 11     \t 69.516 35.071 5.502 \t 7.299 [19.332 31.656] \t [2.6485 4.337 ]\n",
      "21 21 21     \t 5.242 43.753 0.47 \t 0.181 [0.279 1.179] \t [1.5424 6.5282]\n",
      "17 15 15     \t 10.677 0.147 0.04 \t 1.09 [1.184 1.758] \t [1.0863 1.6132]\n",
      "16 12 13     \t 41.932 35.672 2.641 \t 1.523 [2.189 5.863] \t [1.4371 3.8497]\n",
      "48 48 46     \t 78.897 14.862 0.892 \t 3.444 [3.752 8.091] \t [1.0895 2.3495]\n",
      "11 11 11     \t 65.946 22.377 5.564 \t 7.592 [19.167 30.068] \t [2.5246 3.9604]\n",
      "33 29 30     \t 50.23 7.196 0.788 \t 2.483 [2.607 4.768] \t [1.0497 1.92  ]\n",
      "10 8 9     \t 0.479 0.467 0.229 \t 0.028 [0.039 0.114] \t [1.4072 4.1242]\n",
      "53 53 53     \t 19.887 8.871 8.558 \t 2.373 [3.132 6.522] \t [1.3198 2.7482]\n",
      "25 25 24     \t 19.506 6.471 1.302 \t 1.293 [1.881 3.695] \t [1.4541 2.8566]\n",
      "11 9 10     \t 61.617 15.551 2.249 \t 5.025 [ 6.67  11.988] \t [1.3273 2.3854]\n",
      "22 19 19     \t 35.661 10.994 0.58 \t 2.114 [2.385 4.493] \t [1.1285 2.1255]\n",
      "17 11 10     \t 30.386 81.034 1.251 \t 0.367 [0.772 3.452] \t [2.1017 9.4016]\n",
      "16 15 16     \t 63.581 5.446 1.167 \t 5.583 [ 6.884 12.277] \t [1.2331 2.1991]\n",
      "15 15 15     \t 14.99 3.534 3.066 \t 1.897 [4.013 6.505] \t [2.1156 3.4294]\n",
      "14 14 14     \t 23.516 31.369 18.544 \t 3.887 [4.215 9.623] \t [1.0845 2.4758]\n",
      "13 12 12     \t 44.293 61.306 1.705 \t 2.048 [4.595 9.553] \t [2.2433 4.6641]\n",
      "14 9 11     \t 81.885 23.593 0.575 \t 4.355 [ 5.348 10.217] \t [1.2279 2.3458]\n",
      "13 13 13     \t 71.506 92.149 65.266 \t 12.305 [13.312 29.892] \t [1.0818 2.4293]\n",
      "23 23 23     \t 27.744 12.671 1.834 \t 2.543 [ 6.031 10.242] \t [2.3719 4.0281]\n",
      "13 13 13     \t 43.466 0.645 0.106 \t 4.724 [11.094 17.372] \t [2.3484 3.6773]\n",
      "82 82 81     \t 26.367 31.5 3.164 \t 1.222 [1.247 3.945] \t [1.0208 3.2291]\n",
      "25 23 24     \t 50.174 0.837 0.286 \t 3.831 [3.903 6.302] \t [1.019  1.6452]\n",
      "16 16 16     \t 22.439 0.163 0.147 \t 2.332 [5.4   8.226] \t [2.3156 3.5272]\n",
      "23 23 23     \t 13.167 31.37 3.917 \t 1.339 [1.549 4.031] \t [1.1573 3.0114]\n",
      "19 19 19     \t 86.55 0.973 0.04 \t 8.449 [19.365 30.596] \t [2.2919 3.6211]\n",
      "10 10 10     \t 13.406 0.322 0.084 \t 1.572 [3.728 5.746] \t [2.3713 3.6546]\n",
      "26 26 26     \t 83.497 9.196 1.753 \t 7.781 [18.239 28.183] \t [2.344  3.6219]\n",
      "23 22 21     \t 73.356 19.215 10.514 \t 4.635 [ 5.466 11.649] \t [1.1792 2.5131]\n",
      "33 33 33     \t 96.788 32.818 1.391 \t 7.201 [19.058 32.099] \t [2.6467 4.4578]\n",
      "25 25 24     \t 82.565 63.815 10.459 \t 5.147 [ 7.202 16.834] \t [1.3991 3.2703]\n",
      "10 9 9     \t 96.113 59.142 0.767 \t 7.951 [14.049 24.708] \t [1.7669 3.1075]\n",
      "22 20 20     \t 92.308 26.843 7.325 \t 6.405 [ 7.582 14.439] \t [1.1836 2.2542]\n",
      "15 13 14     \t 73.69 2.505 1.311 \t 6.69 [ 6.914 11.237] \t [1.0334 1.6796]\n",
      "13 13 13     \t 91.684 28.211 6.264 \t 10.051 [24.632 39.136] \t [2.4506 3.8937]\n",
      "11 9 7     \t 12.534 10.584 1.227 \t 0.498 [0.763 2.005] \t [1.5307 4.0233]\n",
      "12 12 12     \t 65.471 5.065 4.066 \t 7.817 [18.438 27.804] \t [2.3588 3.5569]\n",
      "19 19 19     \t 51.966 0.182 0.072 \t 5.115 [11.756 17.958] \t [2.2985 3.5109]\n",
      "16 11 10     \t 91.937 17.54 4.341 \t 5.498 [ 6.004 11.251] \t [1.0921 2.0464]\n",
      "20 16 16     \t 15.1 0.967 0.504 \t 1.108 [1.142 1.849] \t [1.0301 1.6688]\n",
      "19 19 19     \t 65.714 38.721 11.024 \t 7.348 [14.612 25.787] \t [1.9887 3.5096]\n",
      "17 17 17     \t 24.81 75.978 5.196 \t 2.066 [3.11  7.868] \t [1.5058 3.8091]\n",
      "14 14 13     \t 71.794 25.298 24.425 \t 6.561 [ 7.469 17.334] \t [1.1383 2.6419]\n",
      "22 21 21     \t 32.896 7.446 0.611 \t 2.94 [3.865 6.611] \t [1.3148 2.2488]\n",
      "26 26 26     \t 29.161 13.792 0.537 \t 2.122 [ 5.905 10.065] \t [2.783  4.7437]\n",
      "11 11 11     \t 52.051 16.154 4.874 \t 6.175 [15.145 24.074] \t [2.4527 3.8987]\n",
      "12 10 10     \t 83.321 37.756 3.33 \t 6.422 [ 8.722 16.302] \t [1.3581 2.5385]\n",
      "13 12 12     \t 10.025 6.252 0.344 \t 0.762 [1.284 2.386] \t [1.6851 3.1309]\n",
      "22 22 22     \t 20.992 1.196 0.433 \t 2.072 [4.801 7.355] \t [2.317  3.5491]\n",
      "19 19 19     \t 48.996 35.513 24.844 \t 6.943 [ 9.907 19.686] \t [1.4269 2.8354]\n",
      "15 15 15     \t 11.032 2.127 0.82 \t 1.255 [2.947 4.544] \t [2.3479 3.6209]\n",
      "10 10 10     \t 60.099 20.734 9.72 \t 7.821 [18.156 29.353] \t [2.3214 3.7529]\n",
      "18 16 18     \t 27.255 43.884 1.539 \t 0.798 [1.148 5.009] \t [1.4378 6.2758]\n",
      "10 10 10     \t 10.526 14.297 5.756 \t 1.657 [2.406 4.817] \t [1.4519 2.9072]\n",
      "53 52 51     \t 1.108 0.144 0.101 \t 0.061 [0.065 0.131] \t [1.0702 2.1426]\n",
      "26 25 26     \t 86.104 23.65 18.896 \t 6.776 [ 7.899 17.196] \t [1.1658 2.5379]\n",
      "22 18 19     \t 26.132 2.233 0.69 \t 1.639 [1.688 2.934] \t [1.03   1.7903]\n",
      "12 10 10     \t 95.268 10.556 0.975 \t 10.307 [12.339 19.32 ] \t [1.1971 1.8744]\n",
      "12 9 11     \t 88.717 46.397 10.311 \t 4.584 [ 5.342 14.295] \t [1.1653 3.1184]\n",
      "25 21 24     \t 24.51 29.698 1.03 \t 0.491 [0.586 2.985] \t [1.1926 6.0791]\n",
      "17 16 16     \t 7.583 28.01 0.336 \t 0.139 [0.412 1.344] \t [2.9593 9.6582]\n",
      "17 17 16     \t 22.295 33.023 4.651 \t 1.583 [1.951 5.167] \t [1.2326 3.2634]\n",
      "62 60 61     \t 45.255 22.471 0.728 \t 1.617 [2.088 5.185] \t [1.2907 3.2059]\n",
      "43 42 41     \t 76.233 66.754 5.3 \t 2.493 [3.432 9.693] \t [1.3769 3.8883]\n",
      "16 6 12     \t 18.653 84.298 1.032 \t 0.1 [0.164 2.044] \t [ 1.6364 20.4001]\n",
      "19 19 19     \t 92.659 9.935 7.1 \t 10.253 [23.016 35.885] \t [2.2447 3.4999]\n",
      "14 11 11     \t 12.047 1.273 0.942 \t 1.074 [1.212 2.034] \t [1.1278 1.8933]\n",
      "13 10 13     \t 2.903 8.35 0.086 \t 0.043 [0.07  0.498] \t [ 1.6408 11.6402]\n",
      "37 37 34     \t 1.068 1.095 0.04 \t 0.024 [0.033 0.116] \t [1.3661 4.8321]\n",
      "10 10 10     \t 81.946 22.363 0.359 \t 7.804 [23.652 36.943] \t [3.0309 4.734 ]\n",
      "40 39 39     \t 23.127 3.223 0.184 \t 1.851 [2.33  3.844] \t [1.2587 2.0765]\n",
      "15 14 13     \t 44.74 87.033 0.912 \t 1.021 [3.046 7.395] \t [2.9828 7.2419]\n",
      "16 16 16     \t 97.046 11.255 8.504 \t 11.21 [24.922 39.637] \t [2.2233 3.536 ]\n",
      "27 27 27     \t 44.939 71.534 3.796 \t 2.788 [ 5.855 13.584] \t [2.0999 4.8718]\n",
      "10 10 10     \t 99.146 0.531 0.459 \t 11.671 [27.363 41.98 ] \t [2.3446 3.597 ]\n",
      "14 13 13     \t 30.526 61.146 12.477 \t 1.484 [2.137 7.039] \t [1.4401 4.7433]\n",
      "28 28 28     \t 40.809 1.996 0.218 \t 3.624 [ 8.53  13.181] \t [2.354  3.6376]\n",
      "15 13 14     \t 50.667 16.619 0.252 \t 3.309 [4.782 8.679] \t [1.4451 2.6225]\n",
      "71 70 71     \t 35.832 14.412 4.81 \t 2.19 [2.307 5.881] \t [1.0537 2.6857]\n",
      "25 25 25     \t 65.06 78.683 21.279 \t 7.67 [10.925 22.124] \t [1.4244 2.8844]\n",
      "37 36 34     \t 95.672 77.9 6.427 \t 2.723 [ 3.48  11.069] \t [1.2779 4.0651]\n",
      "11 9 9     \t 28.516 0.309 0.04 \t 3.574 [3.915 5.851] \t [1.0952 1.637 ]\n",
      "42 42 42     \t 53.705 0.938 0.04 \t 4.299 [ 9.709 15.453] \t [2.2584 3.5945]\n",
      "18 9 10     \t 36.224 9.382 0.961 \t 1.798 [1.93  3.865] \t [1.0734 2.1497]\n",
      "79 79 79     \t 59.068 0.951 0.866 \t 4.347 [ 9.564 15.035] \t [2.2002 3.4586]\n",
      "193 193 192     \t 10.354 2.965 0.968 \t 0.531 [0.601 1.355] \t [1.1324 2.5541]\n"
     ]
    }
   ],
   "source": [
    "for test in cov_XIr_XJs_second_order_tests:\n",
    "    if test.theoretical_quantity_below_sample_CI():\n",
    "        print(test.N, test.r, test.s,  \"    \\t\",\n",
    "              np.round(test.sigma_sq_X, 3), \n",
    "              np.round(test.sigma_sq_1, 3), np.round(test.sigma_sq_2, 3), \"\\t\",\n",
    "              np.round(test.theoretical_quantity(), 3),\n",
    "              np.round(test.sample_CI(), 3), \"\\t\",\n",
    "              np.round(test.sample_CI() / test.theoretical_quantity(), 4)\n",
    "             )"
   ]
  },
  {
   "cell_type": "code",
   "execution_count": null,
   "metadata": {},
   "outputs": [],
   "source": []
  }
 ],
 "metadata": {
  "kernelspec": {
   "display_name": "Python 3",
   "language": "python",
   "name": "python3"
  },
  "language_info": {
   "codemirror_mode": {
    "name": "ipython",
    "version": 3
   },
   "file_extension": ".py",
   "mimetype": "text/x-python",
   "name": "python",
   "nbconvert_exporter": "python",
   "pygments_lexer": "ipython3",
   "version": "3.7.3"
  }
 },
 "nbformat": 4,
 "nbformat_minor": 2
}
