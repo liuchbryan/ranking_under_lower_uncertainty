{
 "cells": [
  {
   "cell_type": "code",
   "execution_count": 2,
   "metadata": {},
   "outputs": [
    {
     "name": "stderr",
     "output_type": "stream",
     "text": [
      "/Users/bryan.liu/.local/share/virtualenvs/ranking_under_lower_uncertainty-NLm1LOk1/lib/python3.7/site-packages/pandas/compat/__init__.py:85: UserWarning: Could not import the lzma module. Your installed Python is incomplete. Attempting to use lzma compression will result in a RuntimeError.\n",
      "  warnings.warn(msg)\n",
      "/Users/bryan.liu/.local/share/virtualenvs/ranking_under_lower_uncertainty-NLm1LOk1/lib/python3.7/site-packages/pandas/compat/__init__.py:85: UserWarning: Could not import the lzma module. Your installed Python is incomplete. Attempting to use lzma compression will result in a RuntimeError.\n",
      "  warnings.warn(msg)\n"
     ]
    }
   ],
   "source": [
    "import pickle\n",
    "import os\n",
    "from rulu.bootstrap_CI_test import *\n",
    "from rulu.normal_normal_model import get_samples\n",
    "from rulu.utils import get_test_params, find_all_tests_in_same_category\n",
    "from matplotlib import pyplot as plt\n",
    "from scipy.stats import percentileofscore\n",
    "import time"
   ]
  },
  {
   "cell_type": "code",
   "execution_count": 2,
   "metadata": {},
   "outputs": [],
   "source": [
    "def print_test_collection_result(test_collection: List[BootstrapCITest]) -> None:\n",
    "    if test_collection is None or len(test_collection) == 0:\n",
    "        print(\"There is nothing in the provided test collection.\")\n",
    "        return\n",
    "\n",
    "    within_CI = [test.theoretical_quantity_in_sample_CI()\n",
    "                 for test in test_collection]\n",
    "\n",
    "    print(test_collection[0].test_name() +\n",
    "          \": {}/{} ({}%) \"\n",
    "          .format(np.sum(within_CI), len(within_CI),\n",
    "                  np.round(100.0 * np.sum(within_CI) / len(within_CI), 2)) +\n",
    "          \"of the tests have the theoretical quantity within the CI.\")\n",
    "\n",
    "\n",
    "def save_test_collection(test_collection: List[BootstrapCITest], in_dir: str = './output/') -> None:\n",
    "    \"\"\"\n",
    "    Save given `test_collection` as a pickle file in `in_dir`\n",
    "    :param test_collection: List of tests\n",
    "    :param in_dir: Output directory\n",
    "    :return: None\n",
    "    \"\"\"\n",
    "    if test_collection is None or len(test_collection) == 0:\n",
    "        return\n",
    "\n",
    "    file_name = (in_dir + str(test_collection[0].__class__.__name__) +\n",
    "                 \"_\" + str(int(time.time())) + \".pickle\")\n",
    "    pickle_file = open(file_name, 'wb')\n",
    "    pickle.dump(test_collection, pickle_file)\n",
    "\n",
    "    print(\"The test collection is saved at \" + file_name)\n",
    "\n",
    "\n",
    "def find_all_tests_in_same_category(test, in_dir='../output'):\n",
    "    \"\"\"\n",
    "    Retrieve all tests in `in_dir` that is of the same type as the specified `test`\n",
    "    \"\"\"\n",
    "    \n",
    "    def get_tests_from_pickle_file(file_path):\n",
    "        filehandler = open(file_path, 'rb')\n",
    "        return pickle.load(filehandler)\n",
    "    \n",
    "    tests_pickle_fps = [\n",
    "        os.path.join(in_dir, file)\n",
    "        for file in os.listdir(in_dir) \n",
    "        if str(test.__class__.__name__) in file]\n",
    "    \n",
    "    return [test for tests in map(get_tests_from_pickle_file, tests_pickle_fps)\n",
    "            for test in tests]"
   ]
  },
  {
   "cell_type": "code",
   "execution_count": 3,
   "metadata": {},
   "outputs": [],
   "source": [
    "num_tests = 100\n",
    "num_runs = 10000\n",
    "BOOTSTRAP_BATCH_SIZE = 100\n",
    "num_bootstrap_samples = 2000"
   ]
  },
  {
   "cell_type": "code",
   "execution_count": 4,
   "metadata": {},
   "outputs": [
    {
     "name": "stdout",
     "output_type": "stream",
     "text": [
      "Test 1/100 (N=14, M=7): Done.                                         \n",
      "Test 2/100 (N=11, M=5): Done.                                         \n",
      "Test 3/100 (N=178, M=45): Done.                                         \n",
      "Test 4/100 (N=120, M=32): Done.                                         \n",
      "Test 5/100 (N=19, M=6): Done.                                         \n",
      "Test 6/100 (N=503, M=341): Done.                                         \n",
      "Test 7/100 (N=2512, M=858): Done.                                         \n",
      "Test 8/100 (N=220, M=164): Done.                                         \n",
      "Test 9/100 (N=2642, M=1643): Done.                                         \n",
      "Test 10/100 (N=309, M=76): Done.                                         \n",
      "Test 11/100 (N=1511, M=595): Done.                                         \n",
      "Test 12/100 (N=918, M=714): Done.                                         \n",
      "Test 13/100 (N=36, M=17): Done.                                         \n",
      "Test 14/100 (N=569, M=27): Done.                                         \n",
      "Test 15/100 (N=890, M=378): Done.                                         \n",
      "Test 16/100 (N=351, M=172): Done.                                         \n",
      "Test 17/100 (N=16, M=5): Done.                                         \n",
      "Test 18/100 (N=1882, M=1320): Done.                                         \n",
      "Test 19/100 (N=153, M=11): Done.                                         \n",
      "Test 20/100 (N=303, M=168): Done.                                         \n",
      "Test 21/100 (N=10, M=7): Done.                                         \n",
      "Test 22/100 (N=143, M=109): Done.                                         \n",
      "Test 23/100 (N=360, M=53): Done.                                         \n",
      "Test 24/100 (N=2723, M=1726): Done.                                         \n",
      "Test 25/100 (N=1565, M=1151): Done.                                         \n",
      "Test 26/100 (N=27, M=13): Done.                                         \n",
      "Test 27/100 (N=28, M=11): Done.                                         \n",
      "Var(V): 20/27 (74.07%) of the tests have the theoretical quantity within the CI.\n",
      "The test collection is saved at ./output/VarVCITest_1577927203.pickle\n",
      "Cov(V1, V2): 0/27 (0.0%) of the tests have the theoretical quantity within the CI.\n",
      "The test collection is saved at ./output/CovV1V2CITest_1577930827.pickle\n",
      "Var(D): 0/27 (0.0%) of the tests have the theoretical quantity within the CI.\n",
      "The test collection is saved at ./output/VarDCITest_1577930830.pickle\n"
     ]
    }
   ],
   "source": [
    "# Prepare test collections\n",
    "var_V_tests = []\n",
    "cov_V1_V2_tests = []\n",
    "var_D_tests = []\n",
    "\n",
    "bootstrap_test_collections = [\n",
    "    var_V_tests,\n",
    "    cov_V1_V2_tests,\n",
    "    var_D_tests\n",
    "]\n",
    "\n",
    "for num_test in range(0, num_tests):\n",
    "    try:\n",
    "        # Sample the parameters from a realistic parameter space\n",
    "        params = get_test_params()\n",
    "        N = int(params['N'])\n",
    "        M = int(params['M'])\n",
    "        mu_X = params['mu_X']\n",
    "        mu_epsilon = params['mu_epsilon']\n",
    "        sigma_sq_X = params['sigma_sq_X']\n",
    "        sigma_sq_1 = params['sigma_sq_1']\n",
    "        sigma_sq_2 = params['sigma_sq_2']\n",
    "        r = params['r']\n",
    "        s = params['s']\n",
    "\n",
    "        # Prepare a test\n",
    "        var_V_test = VarVCITest(sigma_sq_X, N, M, sigma_sq_1=sigma_sq_1)\n",
    "        cov_V1_V2_test = CovV1V2CITest(sigma_sq_X, sigma_sq_1, sigma_sq_2, N, M)\n",
    "        var_D_test = VarDCITest(sigma_sq_X, sigma_sq_1, sigma_sq_2, N, M)\n",
    "\n",
    "        # Arrange the covariance tests IN THE SAME ORDER as that in the collections\n",
    "        bootstrap_tests = [var_V_test,\n",
    "                           cov_V1_V2_test,\n",
    "                           var_D_test\n",
    "                          ]\n",
    "        \n",
    "        # Get the initial samples\n",
    "        print(\"Test {}/{} (N={}, M={}): calculating initial samples...    \"\n",
    "              .format(num_test + 1, num_tests, N, M),\n",
    "              end='\\r')\n",
    "        \n",
    "        samples = get_samples(num_runs, N, M, mu_X, mu_epsilon,\n",
    "                              sigma_sq_X, sigma_sq_1, sigma_sq_2,\n",
    "                              verbose=False, r=r, s=s)\n",
    "        \n",
    "        for test in bootstrap_tests:\n",
    "            test.set_initial_samples(samples)\n",
    "        \n",
    "        # Bootstrap from the initial samples in batches\n",
    "        for i in range(0, int(num_bootstrap_samples / BOOTSTRAP_BATCH_SIZE)):\n",
    "            print(\"Test {}/{} (N={}, M={}): calculating bootstrap samples {}/{}...    \"\n",
    "                  .format(num_test + 1, num_tests, N, M,\n",
    "                          i * BOOTSTRAP_BATCH_SIZE, num_bootstrap_samples),\n",
    "                  end='\\r')\n",
    "            \n",
    "            for test in bootstrap_tests:\n",
    "                test.generate_bootstrap_samples(BOOTSTRAP_BATCH_SIZE)\n",
    "        \n",
    "        # Generate bootstrap samples that can't fit in a batch\n",
    "        for test in bootstrap_tests:\n",
    "                test.generate_bootstrap_samples(num_bootstrap_samples % BOOTSTRAP_BATCH_SIZE)\n",
    "\n",
    "        # Once a test is completed (i.e. we collected enough covariate\n",
    "        # samples), we added them to the corresponding, existing\n",
    "        # collection of tests\n",
    "        for (bootstrap_test, bootstrap_test_collection) in \\\n",
    "                [(bootstrap_tests[i], bootstrap_test_collections[i]) \n",
    "                 for i in range(0, len(bootstrap_tests))]:\n",
    "            bootstrap_test_collection.append(bootstrap_test)\n",
    "                        \n",
    "        print(\"Test {}/{} (N={}, M={}): Done.                                         \"\n",
    "              .format(num_test + 1, num_tests, N, M))\n",
    "\n",
    "    except KeyboardInterrupt:\n",
    "        # Breaking the for loop is sufficient, as we want to\n",
    "        # analyse the results accumulated so far\n",
    "        break\n",
    "\n",
    "# Print some statistics and save the test collections for future reference\n",
    "# once we reached the number of experiments / process is interrupted\n",
    "for bootstrap_test_collection in bootstrap_test_collections:\n",
    "    try:\n",
    "        print_test_collection_result(bootstrap_test_collection)\n",
    "    except KeyboardInterrupt:\n",
    "        print(\"{}: Skipped.\".format(bootstrap_test_collection[0].test_name()))\n",
    "    save_test_collection(bootstrap_test_collection)"
   ]
  },
  {
   "cell_type": "code",
   "execution_count": 7,
   "metadata": {},
   "outputs": [
    {
     "name": "stdout",
     "output_type": "stream",
     "text": [
      "The test collection is saved at ./output/bootstrap_CI_tests/VarVCITest_1577960139.pickle\n",
      "The test collection is saved at ./output/bootstrap_CI_tests/CovV1V2CITest_1577960141.pickle\n",
      "The test collection is saved at ./output/bootstrap_CI_tests/VarDCITest_1577960145.pickle\n"
     ]
    }
   ],
   "source": [
    "for bootstrap_test_collection in bootstrap_test_collections:\n",
    "    save_test_collection(bootstrap_test_collection, in_dir=\"./output/bootstrap_CI_tests/\")"
   ]
  },
  {
   "cell_type": "code",
   "execution_count": 5,
   "metadata": {},
   "outputs": [],
   "source": [
    "theoretical_sample_percentile = [test.theoretical_quantity_sample_percentile() for test in examples]"
   ]
  },
  {
   "cell_type": "code",
   "execution_count": null,
   "metadata": {},
   "outputs": [],
   "source": [
    "plt.hist(theoretical_sample_percentile, bins=range(0, 105, 5))\n",
    "plt.xlim(0, 100)\n",
    "plt.show()"
   ]
  },
  {
   "cell_type": "code",
   "execution_count": 3,
   "metadata": {},
   "outputs": [
    {
     "name": "stdout",
     "output_type": "stream",
     "text": [
      "Cov(V1, V2): 6/127 (4.72%) of the tests have the theoretical quantity within the CI.\n",
      "The test collection is saved at ./output/bootstrap_CI_tests/CovV1V2CITest_1583301794.pickle\n"
     ]
    }
   ],
   "source": [
    "cov_V1_V2_tests = find_all_tests_in_same_category(CovV1V2CITest(sigma_sq_1=0.5**2), \n",
    "                                                  in_dir='./output/bootstrap_CI_tests/')\n",
    "\n",
    "for test in cov_V1_V2_tests:\n",
    "    test.theoretical_quantity_cache = None\n",
    "    \n",
    "print_test_collection_result(cov_V1_V2_tests)\n",
    "\n",
    "save_test_collection(cov_V1_V2_tests, in_dir=\"./output/bootstrap_CI_tests/\")"
   ]
  },
  {
   "cell_type": "code",
   "execution_count": 4,
   "metadata": {},
   "outputs": [
    {
     "data": {
      "image/png": "[encoded data removed]",
      "text/plain": [
       "<Figure size 432x288 with 1 Axes>"
      ]
     },
     "metadata": {
      "needs_background": "light"
     },
     "output_type": "display_data"
    }
   ],
   "source": [
    "test_collection = cov_V1_V2_tests\n",
    "\n",
    "theoretical_quantity_percentiles = [\n",
    "    test.theoretical_quantity_sample_percentile()\n",
    "    for test in test_collection]\n",
    "\n",
    "plt.hist(theoretical_quantity_percentiles, bins=range(0, 102, 2))\n",
    "plt.xlim(0, 100)\n",
    "plt.show()"
   ]
  },
  {
   "cell_type": "code",
   "execution_count": 5,
   "metadata": {},
   "outputs": [
    {
     "name": "stdout",
     "output_type": "stream",
     "text": [
      "1020 335     \t 3.142 66.076 63.447 \t 0.003 [0.003  0.0034] \t [0.973 0.865]\n",
      "149 38     \t 1.542 34.282 1.963 \t 0.007 [0.0132 0.0147] \t [0.545 0.488]\n",
      "169 25     \t 43.773 55.153 24.531 \t 0.431 [0.7378 0.7956] \t [0.584 0.542]\n",
      "83 9     \t 1.139 25.699 21.215 \t 0.014 [0.0145 0.0194] \t [0.993 0.74 ]\n",
      "811 560     \t 3.441 18.412 8.016 \t 0.003 [0.0044 0.0047] \t [0.679 0.637]\n",
      "832 46     \t 1.969 19.522 4.019 \t 0.003 [0.0056 0.0071] \t [0.544 0.433]\n",
      "14 5     \t 5.627 5.275 2.562 \t 0.415 [0.6631 0.707 ] \t [0.625 0.586]\n",
      "1561 464     \t 2.674 83.763 10.262 \t 0.001 [0.002  0.0023] \t [0.728 0.652]\n",
      "649 226     \t 68.081 80.716 2.088 \t 0.157 [0.1705 0.1811] \t [0.923 0.869]\n",
      "32 20     \t 50.322 46.168 10.538 \t 1.6 [1.9003 2.0108] \t [0.842 0.796]\n",
      "15 11     \t 9.545 77.025 3.118 \t 0.258 [0.6511 0.6913] \t [0.397 0.374]\n",
      "2341 1868     \t 1.823 80.505 6.69 \t 0.001 [0.0008 0.0008] \t [0.792 0.745]\n",
      "158 26     \t 1.08 7.96 1.733 \t 0.006 [0.0112 0.0127] \t [0.576 0.509]\n",
      "466 112     \t 5.76 65.345 6.58 \t 0.009 [0.0186 0.0205] \t [0.483 0.44 ]\n",
      "696 422     \t 17.211 64.137 19.461 \t 0.016 [0.0277 0.0296] \t [0.591 0.553]\n",
      "10 5     \t 12.198 46.021 42.811 \t 0.987 [1.4337 1.5384] \t [0.688 0.641]\n",
      "316 63     \t 72.733 61.885 28.919 \t 0.436 [0.5479 0.5834] \t [0.795 0.747]\n",
      "2567 214     \t 0.811 50.319 2.84 \t 0.0 [0.0004 0.0005] \t [0.845 0.609]\n",
      "16 1     \t 99.604 17.603 5.295 \t 25.054 [31.9984 34.1841] \t [0.783 0.733]\n",
      "163 109     \t 0.555 56.273 3.922 \t 0.003 [0.0034 0.0036] \t [0.887 0.829]\n",
      "13 2     \t 27.413 15.853 8.528 \t 3.774 [5.8259 6.2056] \t [0.648 0.608]\n",
      "3049 988     \t 1.217 67.812 2.001 \t 0.0 [0.0004 0.0005] \t [0.61  0.552]\n",
      "157 104     \t 0.181 16.276 15.568 \t 0.001 [0.0011 0.0012] \t [0.99  0.924]\n",
      "10 3     \t 22.931 18.042 12.174 \t 2.552 [4.1369 4.4043] \t [0.617 0.579]\n",
      "11 4     \t 12.73 33.524 22.829 \t 0.975 [1.6631 1.7897] \t [0.586 0.545]\n",
      "10 7     \t 34.23 21.956 18.057 \t 2.974 [3.8225 4.043 ] \t [0.778 0.736]\n",
      "359 228     \t 16.797 51.855 7.999 \t 0.029 [0.0535 0.0569] \t [0.534 0.503]\n",
      "10 4     \t 25.8 71.027 60.464 \t 2.138 [3.4781 3.7428] \t [0.615 0.571]\n",
      "974 300     \t 1.476 66.669 1.341 \t 0.001 [0.0017 0.0019] \t [0.49  0.442]\n",
      "88 64     \t 1.299 14.085 12.264 \t 0.013 [0.0148 0.0158] \t [0.856 0.803]\n",
      "43 5     \t 38.927 47.351 30.356 \t 1.519 [2.8453 3.1008] \t [0.534 0.49 ]\n",
      "19 6     \t 24.231 57.401 4.146 \t 0.952 [2.0421 2.185 ] \t [0.466 0.436]\n",
      "332 10     \t 25.203 20.247 14.782 \t 0.416 [0.6609 0.7226] \t [0.63  0.576]\n",
      "75 21     \t 0.67 31.161 2.155 \t 0.007 [0.0096 0.0109] \t [0.782 0.688]\n",
      "25 3     \t 0.859 7.045 2.175 \t 0.037 [0.0564 0.0668] \t [0.662 0.559]\n",
      "187 40     \t 3.022 4.826 3.719 \t 0.018 [0.0323 0.0348] \t [0.573 0.53 ]\n",
      "25 12     \t 39.147 27.116 6.924 \t 1.893 [2.1995 2.3357] \t [0.861 0.81 ]\n",
      "2681 599     \t 6.291 54.642 8.91 \t 0.002 [0.0037 0.0041] \t [0.524 0.473]\n",
      "80 54     \t 1.702 51.777 26.072 \t 0.02 [0.0211 0.0226] \t [0.934 0.872]\n",
      "2069 227     \t 12.334 96.798 65.366 \t 0.007 [0.0096 0.0115] \t [0.701 0.581]\n",
      "544 338     \t 14.031 32.271 25.181 \t 0.019 [0.0292 0.0311] \t [0.634 0.594]\n",
      "530 66     \t 8.882 58.683 17.638 \t 0.018 [0.0316 0.0365] \t [0.575 0.498]\n",
      "15 5     \t 57.966 12.911 9.843 \t 6.646 [6.8028 7.1935] \t [0.977 0.924]\n",
      "30 9     \t 95.993 24.657 23.604 \t 5.993 [6.1255 6.4993] \t [0.978 0.922]\n",
      "90 44     \t 7.409 15.117 5.571 \t 0.062 [0.1089 0.116 ] \t [0.571 0.536]\n",
      "14 1     \t 33.156 5.004 4.765 \t 7.708 [10.9596 11.6617] \t [0.703 0.661]\n",
      "174 64     \t 58.889 89.008 19.65 \t 0.346 [0.5277 0.5628] \t [0.655 0.614]\n",
      "587 150     \t 77.467 83.446 35.196 \t 0.203 [0.2713 0.2895] \t [0.747 0.7  ]\n",
      "150 92     \t 36.194 25.97 21.835 \t 0.266 [0.2924 0.3097] \t [0.911 0.86 ]\n",
      "1186 75     \t 69.067 53.61 44.446 \t 0.224 [0.3019 0.3261] \t [0.741 0.686]\n",
      "1391 973     \t 4.731 8.643 3.022 \t 0.003 [0.0038 0.0041] \t [0.732 0.688]\n",
      "17 3     \t 20.728 81.408 33.459 \t 1.265 [2.3429 2.5985] \t [0.54  0.487]\n",
      "170 48     \t 71.514 92.387 64.778 \t 0.465 [0.7582 0.8139] \t [0.613 0.571]\n",
      "654 218     \t 6.028 44.617 9.93 \t 0.007 [0.0122 0.0133] \t [0.582 0.535]\n",
      "908 116     \t 5.204 5.012 3.008 \t 0.013 [0.018  0.0194] \t [0.738 0.685]\n",
      "11 1     \t 69.3 21.246 6.509 \t 17.666 [24.9389 26.6041] \t [0.708 0.664]\n",
      "208 35     \t 11.307 17.404 2.606 \t 0.082 [0.1357 0.1456] \t [0.602 0.561]\n",
      "14 7     \t 50.994 35.371 4.73 \t 4.208 [4.8372 5.1449] \t [0.87  0.818]\n",
      "11 5     \t 38.086 58.032 1.886 \t 2.73 [4.8269 5.1458] \t [0.566 0.531]\n",
      "178 45     \t 44.335 69.574 11.896 \t 0.296 [0.4974 0.533 ] \t [0.596 0.556]\n",
      "309 76     \t 8.213 11.532 4.181 \t 0.034 [0.0531 0.0567] \t [0.644 0.602]\n",
      "1511 595     \t 0.247 21.168 1.881 \t 0.0 [0.0002 0.0002] \t [0.891 0.809]\n",
      "890 378     \t 39.354 87.421 50.069 \t 0.037 [0.0613 0.0655] \t [0.599 0.56 ]\n",
      "153 11     \t 24.359 26.909 24.889 \t 0.369 [0.6437 0.7102] \t [0.573 0.52 ]\n",
      "303 168     \t 1.141 98.595 55.533 \t 0.004 [0.0037 0.004 ] \t [0.989 0.916]\n",
      "10 7     \t 16.437 78.554 45.246 \t 1.227 [1.7226 1.837 ] \t [0.712 0.668]\n",
      "2723 1726     \t 11.121 24.999 6.564 \t 0.003 [0.0047 0.005 ] \t [0.687 0.647]\n",
      "1565 1151     \t 0.796 11.634 1.173 \t 0.0 [0.0005 0.0005] \t [0.602 0.566]\n",
      "28 11     \t 1.16 4.756 0.467 \t 0.025 [0.0561 0.0602] \t [0.44 0.41]\n"
     ]
    }
   ],
   "source": [
    "for test in cov_V1_V2_tests:\n",
    "    if test.theoretical_quantity_below_sample_CI():\n",
    "        print(test.N, test.M,  \"    \\t\",\n",
    "              np.round(test.sigma_sq_X, 3), \n",
    "              np.round(test.sigma_sq_1, 3), np.round(test.sigma_sq_2, 3), \"\\t\",\n",
    "              np.round(test.theoretical_quantity(), 3),\n",
    "              np.round(test.sample_CI(), 4), \"\\t\",\n",
    "              np.round(test.theoretical_quantity() / test.sample_CI(), 3)\n",
    "             )"
   ]
  }
 ],
 "metadata": {
  "kernelspec": {
   "display_name": "Python 3",
   "language": "python",
   "name": "python3"
  },
  "language_info": {
   "codemirror_mode": {
    "name": "ipython",
    "version": 3
   },
   "file_extension": ".py",
   "mimetype": "text/x-python",
   "name": "python",
   "nbconvert_exporter": "python",
   "pygments_lexer": "ipython3",
   "version": "3.7.3"
  }
 },
 "nbformat": 4,
 "nbformat_minor": 2
}
