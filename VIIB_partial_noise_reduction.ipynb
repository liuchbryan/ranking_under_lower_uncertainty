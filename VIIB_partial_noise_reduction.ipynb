{
 "cells": [
  {
   "cell_type": "markdown",
   "metadata": {},
   "source": [
    "# Partial Estimation / Measurement Noise Reduction\n",
    "\n",
    "This notebook contain the empirical extension described in Section B-C of the paper \"What is the value of experimentation & measurement\".\n",
    "\n",
    "> In the case wherethere is a single backlog, we ask the question, will an organization still benefit from a partial noise reduction when some propositions’ values are obtained under reduced uncertainty while others are subject to the original noise level?"
   ]
  },
  {
   "cell_type": "code",
   "execution_count": 13,
   "metadata": {},
   "outputs": [],
   "source": [
    "import numpy as np\n",
    "from rulu.normal_normal_partial_model import get_samples\n",
    "from matplotlib import pyplot as plt"
   ]
  },
  {
   "cell_type": "markdown",
   "metadata": {},
   "source": [
    "# Function definitions"
   ]
  },
  {
   "cell_type": "code",
   "execution_count": 14,
   "metadata": {},
   "outputs": [],
   "source": [
    "def get_improvement_against_p(N, M, mu_X, sigma_X, mu_epsilon,\n",
    "                              sigma_1, sigma_2, p_list, verbose=False):\n",
    "    sigma_sq_1 = sigma_1 ** 2\n",
    "    sigma_sq_2 = sigma_2 ** 2\n",
    "    sigma_sq_X = sigma_X ** 2\n",
    "    NUM_SAMPLES = 5000\n",
    "    \n",
    "    exp_improvements = []\n",
    "    CI_lows = []\n",
    "    CI_highs = []\n",
    "    \n",
    "    print(\"Parameters: N = {}, M = {}, mu_X = {}, sigma_X = {}, \" \\\n",
    "          \"mu_epsilon = {}, sigma_1 = {}, sigma_2 = {}\"\n",
    "          .format(N, M, mu_X, sigma_X, mu_epsilon, sigma_1, sigma_2))\n",
    "\n",
    "    for p in p_list:\n",
    "        improvement = (\n",
    "            get_samples(\n",
    "                NUM_SAMPLES, N, M, mu_X, mu_epsilon, \n",
    "                sigma_sq_X, sigma_sq_1, sigma_sq_2, p, verbose=False)\n",
    "            ['improvement']\n",
    "        )\n",
    "    \n",
    "        exp_improvement = np.mean(improvement)\n",
    "        CI_low = np.percentile(improvement, 5)\n",
    "        CI_high = np.percentile(improvement, 95)\n",
    "    \n",
    "        exp_improvements.append(exp_improvement)\n",
    "        CI_lows.append(CI_low)\n",
    "        CI_highs.append(CI_high)\n",
    "        \n",
    "        if verbose:\n",
    "            print(\"p = {}, Improvement = {}, CI = [{}, {}]\"\n",
    "                  .format(p, np.round(exp_improvement, 4),\n",
    "                          np.round(CI_low, 4), np.round(CI_high, 4)))\n",
    "            \n",
    "    return exp_improvements, CI_lows, CI_highs"
   ]
  },
  {
   "cell_type": "code",
   "execution_count": 15,
   "metadata": {},
   "outputs": [],
   "source": [
    "def generate_improvement_against_p_plot(p_list, exp_improvements, CI_lows, CI_highs):\n",
    "    fig, ax = plt.subplots()\n",
    "    \n",
    "    ax.errorbar(p_list, exp_improvements, \n",
    "                yerr=[np.array(exp_improvements) - np.array(CI_lows), \n",
    "                      np.array(CI_highs) - np.array(exp_improvements)],\n",
    "                fmt='o-', capsize=3)\n",
    "      \n",
    "    ax.axhline(0, c='black')\n",
    "#     ax.set_xlabel('p')\n",
    "#     ax.set_ylabel('Improvement')\n",
    "\n",
    "    return fig, ax"
   ]
  },
  {
   "cell_type": "markdown",
   "metadata": {},
   "source": [
    "# Plotting the relationship between expected improvement\n",
    "\n",
    "Here we test we are able to generate one figure."
   ]
  },
  {
   "cell_type": "code",
   "execution_count": 10,
   "metadata": {},
   "outputs": [
    {
     "name": "stdout",
     "output_type": "stream",
     "text": [
      "Parameters: N = 2500, M = 500, mu_X = 0, sigma_X = 1,mu_epsilon = 0, sigma_1 = 0.5, sigma_2 = 0.4\n",
      "p = 0.0, Improvement = -0.0, CI = [-0.0252, 0.0252]\n",
      "p = 0.1, Improvement = 0.0047, CI = [-0.0207, 0.0298]\n",
      "p = 0.2, Improvement = 0.0094, CI = [-0.016, 0.0351]\n",
      "p = 0.30000000000000004, Improvement = 0.0141, CI = [-0.0113, 0.039]\n",
      "p = 0.4, Improvement = 0.0184, CI = [-0.0063, 0.0441]\n",
      "p = 0.5, Improvement = 0.0233, CI = [-0.001, 0.0483]\n",
      "p = 0.6000000000000001, Improvement = 0.0285, CI = [0.004, 0.0528]\n",
      "p = 0.7000000000000001, Improvement = 0.0329, CI = [0.0089, 0.0571]\n",
      "p = 0.8, Improvement = 0.0378, CI = [0.0139, 0.0619]\n",
      "p = 0.9, Improvement = 0.0425, CI = [0.0196, 0.0654]\n",
      "p = 1.0, Improvement = 0.0475, CI = [0.0246, 0.0707]\n"
     ]
    }
   ],
   "source": [
    "N = 2500\n",
    "M = 500\n",
    "\n",
    "sigma_X = 1\n",
    "sigma_1 = 0.5\n",
    "sigma_2 = 0.4\n",
    "mu_epsilon = 0\n",
    "mu_X = 0\n",
    "\n",
    "p_list = np.arange(0, 1.01, 0.1)\n",
    "exp_improvements, CI_lows, CI_highs = (\n",
    "    get_improvement_against_p(N, M, mu_X, sigma_X, mu_epsilon, \n",
    "                              sigma_1, sigma_2, p_list, verbose=True)\n",
    ")"
   ]
  },
  {
   "cell_type": "code",
   "execution_count": 11,
   "metadata": {},
   "outputs": [
    {
     "data": {
      "image/png": "[encoded data removed]",
      "text/plain": [
       "<Figure size 432x288 with 1 Axes>"
      ]
     },
     "execution_count": 11,
     "metadata": {},
     "output_type": "execute_result"
    },
    {
     "data": {
      "image/png": "[encoded data removed]",
      "text/plain": [
       "<Figure size 432x288 with 1 Axes>"
      ]
     },
     "metadata": {
      "needs_background": "light"
     },
     "output_type": "display_data"
    }
   ],
   "source": [
    "fig, ax = generate_improvement_against_p_plot(p_list, exp_improvements, CI_lows, CI_highs)\n",
    "\n",
    "fig"
   ]
  },
  {
   "cell_type": "markdown",
   "metadata": {},
   "source": [
    "# Generating all the figures\n",
    "\n",
    "The following code generates the figures in Figure 5 of the paper.\n",
    "\n",
    "The output is stored in the path `./output/fig/partial_noise_<params>.pdf`."
   ]
  },
  {
   "cell_type": "code",
   "execution_count": 18,
   "metadata": {},
   "outputs": [
    {
     "name": "stdout",
     "output_type": "stream",
     "text": [
      "Parameters: N = 50, M = 5, mu_X = 0, sigma_X = 1, mu_epsilon = 0, sigma_1 = 0.5, sigma_2 = 0.4\n",
      "Parameters: N = 50, M = 20, mu_X = 0, sigma_X = 1, mu_epsilon = 0, sigma_1 = 0.5, sigma_2 = 0.4\n",
      "Parameters: N = 2500, M = 250, mu_X = 0, sigma_X = 1, mu_epsilon = 0, sigma_1 = 0.5, sigma_2 = 0.4\n",
      "Parameters: N = 2500, M = 1000, mu_X = 0, sigma_X = 1, mu_epsilon = 0, sigma_1 = 0.5, sigma_2 = 0.4\n",
      "Parameters: N = 50, M = 5, mu_X = 0, sigma_X = 1, mu_epsilon = 0, sigma_1 = 0.8, sigma_2 = 0.2\n",
      "Parameters: N = 50, M = 20, mu_X = 0, sigma_X = 1, mu_epsilon = 0, sigma_1 = 0.8, sigma_2 = 0.2\n",
      "Parameters: N = 2500, M = 250, mu_X = 0, sigma_X = 1, mu_epsilon = 0, sigma_1 = 0.8, sigma_2 = 0.2\n",
      "Parameters: N = 2500, M = 1000, mu_X = 0, sigma_X = 1, mu_epsilon = 0, sigma_1 = 0.8, sigma_2 = 0.2\n"
     ]
    },
    {
     "data": {
      "image/png": "[encoded data removed]",
      "text/plain": [
       "<Figure size 144x180 with 1 Axes>"
      ]
     },
     "metadata": {
      "needs_background": "light"
     },
     "output_type": "display_data"
    },
    {
     "data": {
      "image/png": "[encoded data removed]",
      "text/plain": [
       "<Figure size 144x180 with 1 Axes>"
      ]
     },
     "metadata": {
      "needs_background": "light"
     },
     "output_type": "display_data"
    },
    {
     "data": {
      "image/png": "[encoded data removed]",
      "text/plain": [
       "<Figure size 144x180 with 1 Axes>"
      ]
     },
     "metadata": {
      "needs_background": "light"
     },
     "output_type": "display_data"
    },
    {
     "data": {
      "image/png": "[encoded data removed]",
      "text/plain": [
       "<Figure size 144x180 with 1 Axes>"
      ]
     },
     "metadata": {
      "needs_background": "light"
     },
     "output_type": "display_data"
    },
    {
     "data": {
      "image/png": "[encoded data removed]",
      "text/plain": [
       "<Figure size 144x180 with 1 Axes>"
      ]
     },
     "metadata": {
      "needs_background": "light"
     },
     "output_type": "display_data"
    },
    {
     "data": {
      "image/png": "[encoded data removed]",
      "text/plain": [
       "<Figure size 144x180 with 1 Axes>"
      ]
     },
     "metadata": {
      "needs_background": "light"
     },
     "output_type": "display_data"
    },
    {
     "data": {
      "image/png": "[encoded data removed]",
      "text/plain": [
       "<Figure size 144x180 with 1 Axes>"
      ]
     },
     "metadata": {
      "needs_background": "light"
     },
     "output_type": "display_data"
    },
    {
     "data": {
      "image/png": "[encoded data removed]",
      "text/plain": [
       "<Figure size 144x180 with 1 Axes>"
      ]
     },
     "metadata": {
      "needs_background": "light"
     },
     "output_type": "display_data"
    }
   ],
   "source": [
    "parameters = [\n",
    "    {'N': 50, 'M': 5, 'sigma_X': 1, 'sigma_1': 0.5, 'sigma_2': 0.4},\n",
    "    {'N': 50, 'M': 20, 'sigma_X': 1, 'sigma_1': 0.5, 'sigma_2': 0.4},\n",
    "    {'N': 2500, 'M': 250, 'sigma_X': 1, 'sigma_1': 0.5, 'sigma_2': 0.4},\n",
    "    {'N': 2500, 'M': 1000, 'sigma_X': 1, 'sigma_1': 0.5, 'sigma_2': 0.4},\n",
    "    {'N': 50, 'M': 5, 'sigma_X': 1, 'sigma_1': 0.8, 'sigma_2': 0.2},\n",
    "    {'N': 50, 'M': 20, 'sigma_X': 1, 'sigma_1': 0.8, 'sigma_2': 0.2},\n",
    "    {'N': 2500, 'M': 250, 'sigma_X': 1, 'sigma_1': 0.8, 'sigma_2': 0.2},\n",
    "    {'N': 2500, 'M': 1000, 'sigma_X': 1, 'sigma_1': 0.8, 'sigma_2': 0.2},\n",
    "]\n",
    "\n",
    "mu_epsilon = 0\n",
    "mu_X = 0\n",
    "\n",
    "for parameter in parameters:\n",
    "\n",
    "    p_list = np.arange(0, 1.01, 0.1)\n",
    "    exp_improvements, CI_lows, CI_highs = (\n",
    "        get_improvement_against_p(\n",
    "            parameter['N'], parameter['M'], \n",
    "            mu_X, parameter['sigma_X'], \n",
    "            mu_epsilon, parameter['sigma_1'], parameter['sigma_2'], \n",
    "            p_list, verbose=False)\n",
    "    )\n",
    "\n",
    "    fig, ax = generate_improvement_against_p_plot(p_list, exp_improvements, \n",
    "                                                  CI_lows, CI_highs)\n",
    "    fig.set_size_inches(2, 2.5)\n",
    "    fig.savefig(\"./output/fig/partial_noise_{}_{}_{}_{}_{}.pdf\"\n",
    "                .format(parameter['N'], parameter['M'], \n",
    "                        str(parameter['sigma_X']).replace('.', '-'),\n",
    "                        str(parameter['sigma_1']).replace('.', '-'),\n",
    "                        str(parameter['sigma_2']).replace('.', '-')),\n",
    "                transparent=True, bbox_inches='tight')"
   ]
  },
  {
   "cell_type": "code",
   "execution_count": null,
   "metadata": {},
   "outputs": [],
   "source": []
  }
 ],
 "metadata": {
  "kernelspec": {
   "display_name": "Python 3",
   "language": "python",
   "name": "python3"
  },
  "language_info": {
   "codemirror_mode": {
    "name": "ipython",
    "version": 3
   },
   "file_extension": ".py",
   "mimetype": "text/x-python",
   "name": "python",
   "nbconvert_exporter": "python",
   "pygments_lexer": "ipython3",
   "version": "3.7.3"
  }
 },
 "nbformat": 4,
 "nbformat_minor": 2
}
