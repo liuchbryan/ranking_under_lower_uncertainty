{
 "cells": [
  {
   "cell_type": "markdown",
   "metadata": {},
   "source": [
    "# Case Study - What do e-commerce / marketing companies gain by acquiring experimentation & measurement capabilities?\n",
    "\n",
    "This notebook contain the code used to generate results described in Section 7 of the paper."
   ]
  },
  {
   "cell_type": "code",
   "execution_count": 1,
   "metadata": {},
   "outputs": [
    {
     "name": "stderr",
     "output_type": "stream",
     "text": [
      "/Users/bryan.liu/.local/share/virtualenvs/ranking_under_lower_uncertainty-NLm1LOk1/lib/python3.7/site-packages/pandas/compat/__init__.py:85: UserWarning: Could not import the lzma module. Your installed Python is incomplete. Attempting to use lzma compression will result in a RuntimeError.\n",
      "  warnings.warn(msg)\n",
      "/Users/bryan.liu/.local/share/virtualenvs/ranking_under_lower_uncertainty-NLm1LOk1/lib/python3.7/site-packages/pandas/compat/__init__.py:85: UserWarning: Could not import the lzma module. Your installed Python is incomplete. Attempting to use lzma compression will result in a RuntimeError.\n",
      "  warnings.warn(msg)\n"
     ]
    }
   ],
   "source": [
    "from rulu.normal_normal_model import get_samples\n",
    "import numpy as np\n",
    "from matplotlib import pyplot as plt"
   ]
  },
  {
   "cell_type": "code",
   "execution_count": 4,
   "metadata": {},
   "outputs": [],
   "source": [
    "def get_improvement_against_M(N, mu_X, sigma_X, mu_epsilon, \n",
    "                              sigma_1, sigma_2, M_list, verbose=False):\n",
    "    \n",
    "    sigma_sq_1 = sigma_1 ** 2\n",
    "    sigma_sq_2 = sigma_2 ** 2\n",
    "    sigma_sq_X = sigma_X ** 2\n",
    "    NUM_SAMPLES = 2000\n",
    "    \n",
    "    E_Ds = []\n",
    "    CI_lows = []\n",
    "    CI_highs = []\n",
    "    \n",
    "    print(\"Parameters: N = {}, mu_X = {}, sigma_X = {}, \"\n",
    "      \"mu_epsilon = {}, sigma_1 = {}, sigma_2 = {}\"\n",
    "      .format(N, mu_X, sigma_X, mu_epsilon, sigma_1, sigma_2))\n",
    "\n",
    "    for M in M_list:\n",
    "        improvement = (\n",
    "            get_samples(\n",
    "                n_samples=NUM_SAMPLES, N=N, M=M, \n",
    "                mu_X=mu_X, mu_epsilon=mu_epsilon, \n",
    "                sigma_sq_X=sigma_sq_X, sigma_sq_1=sigma_sq_1,\n",
    "                sigma_sq_2=sigma_sq_2, verbose=False)['improvement']\n",
    "        )\n",
    "\n",
    "        E_D = np.mean(improvement)\n",
    "        CI_low = np.percentile(improvement, 5)\n",
    "        CI_high = np.percentile(improvement, 95)\n",
    "\n",
    "        E_Ds.append(E_D)\n",
    "        CI_lows.append(CI_low)\n",
    "        CI_highs.append(CI_high)\n",
    "        \n",
    "        if verbose:\n",
    "            print(\"M = {}, Improvement = {}, CI = [{}, {}]\"\n",
    "                  .format(M, np.round(E_D, 4),\n",
    "                          np.round(CI_low, 4), np.round(CI_high, 4)))\n",
    "            \n",
    "    return E_Ds, CI_lows, CI_highs\n",
    "\n",
    "def generate_improvement_against_M_plot(M_list, exp_improvements, CI_lows, CI_highs):\n",
    "    fig, ax = plt.subplots()\n",
    "    \n",
    "    ax.errorbar(exp_improvements, M_list, \n",
    "                xerr=[np.array(exp_improvements) - np.array(CI_lows), \n",
    "                      np.array(CI_highs) - np.array(exp_improvements)],\n",
    "                fmt='o', capsize=3)\n",
    "    \n",
    "    ax.axvline(0, c='black')\n",
    "    \n",
    "    # The zero line has to be visible\n",
    "    ax.set_xlim(min(min(CI_lows)-0.01, -0.01) * 1.05, \n",
    "                max(max(CI_highs), 0.01) * 1.05)\n",
    "    \n",
    "#     ax.set_xlabel('Value gained')\n",
    "#     ax.set_ylabel('M')\n",
    "    \n",
    "    return fig, ax"
   ]
  },
  {
   "cell_type": "markdown",
   "metadata": {},
   "source": [
    "# One Figure\n",
    "\n",
    "Here we consider the case of generating a single figure (i.e. a $\\sigma^2_1, \\sigma^2_2$ pair). This is to ensure we can generate multiple figures in the experiments described in Section 6 of the paper."
   ]
  },
  {
   "cell_type": "code",
   "execution_count": 5,
   "metadata": {},
   "outputs": [
    {
     "name": "stdout",
     "output_type": "stream",
     "text": [
      "Parameters: N = 6700, mu_X = 0, sigma_X = 0.75, mu_epsilon = 0, sigma_1 = 1.5, sigma_2 = 1\n",
      "M = 10, Improvement = 0.3732, CI = [-0.0971, 0.8285]\n",
      "M = 20, Improvement = 0.3504, CI = [0.0208, 0.6881]\n",
      "M = 50, Improvement = 0.3166, CI = [0.1032, 0.5268]\n",
      "M = 100, Improvement = 0.2877, CI = [0.1373, 0.4367]\n",
      "M = 200, Improvement = 0.2599, CI = [0.1587, 0.3586]\n",
      "M = 500, Improvement = 0.217, CI = [0.157, 0.2759]\n",
      "M = 1000, Improvement = 0.179, CI = [0.1379, 0.2183]\n",
      "M = 1500, Improvement = 0.1539, CI = [0.1248, 0.1831]\n",
      "M = 2000, Improvement = 0.1332, CI = [0.1088, 0.1575]\n"
     ]
    }
   ],
   "source": [
    "N = 6700\n",
    "sigma_X = 0.75\n",
    "mu_X = 0\n",
    "mu_epsilon = 0\n",
    "\n",
    "M_list = [10, 20, 50, 100, 200, 500, 1000, 1500, 2000]\n",
    "sigma_1 = 1.5\n",
    "sigma_2 = 1\n",
    "\n",
    "E_Ds, CI_lows, CI_highs = (\n",
    "    get_improvement_against_M(N, mu_X, sigma_X, mu_epsilon, \n",
    "                              sigma_1, sigma_2, M_list, verbose=True)\n",
    ")\n"
   ]
  },
  {
   "cell_type": "code",
   "execution_count": 8,
   "metadata": {},
   "outputs": [
    {
     "data": {
      "image/png": "[encoded data removed]",
      "text/plain": [
       "<Figure size 162x144 with 1 Axes>"
      ]
     },
     "metadata": {
      "needs_background": "light"
     },
     "output_type": "display_data"
    }
   ],
   "source": [
    "fig, ax = generate_improvement_against_M_plot(\n",
    "    M_list, E_Ds, CI_lows, CI_highs)\n",
    "\n",
    "ax.set_yscale('log')\n",
    "fig.set_size_inches(2.25, 2)\n",
    "\n",
    "fig"
   ]
  },
  {
   "cell_type": "markdown",
   "metadata": {},
   "source": [
    "# Potential value gained for e-commerce companies\n",
    "\n",
    "Here we treat the 6700 e-commerce experiments reported by Browne and Johnson as if that they are run by the same organisation, how much value would such organisation gain if the measurement/estimation noise is reduced from $\\sigma^2_1$ to $\\sigma^2_2$?"
   ]
  },
  {
   "cell_type": "code",
   "execution_count": 9,
   "metadata": {},
   "outputs": [
    {
     "name": "stdout",
     "output_type": "stream",
     "text": [
      "Parameters: N = 6700, mu_X = 0, sigma_X = 0.6, mu_epsilon = 0, sigma_1 = 1, sigma_2 = 0.8\n",
      "M = 10, Improvement = 0.1701, CI = [-0.2126, 0.5089]\n",
      "M = 20, Improvement = 0.1596, CI = [-0.0912, 0.4203]\n",
      "M = 50, Improvement = 0.1436, CI = [-0.0223, 0.3075]\n",
      "M = 100, Improvement = 0.1313, CI = [0.0229, 0.2475]\n",
      "M = 200, Improvement = 0.1143, CI = [0.04, 0.1923]\n",
      "M = 500, Improvement = 0.0976, CI = [0.051, 0.143]\n",
      "M = 1000, Improvement = 0.079, CI = [0.0485, 0.1095]\n",
      "M = 2000, Improvement = 0.059, CI = [0.0405, 0.0776]\n",
      "Parameters: N = 6700, mu_X = 0, sigma_X = 0.6, mu_epsilon = 0, sigma_1 = 1, sigma_2 = 0.6\n",
      "M = 10, Improvement = 0.3808, CI = [0.0404, 0.7356]\n",
      "M = 20, Improvement = 0.3549, CI = [0.1131, 0.6045]\n",
      "M = 50, Improvement = 0.3193, CI = [0.1699, 0.4718]\n",
      "M = 100, Improvement = 0.2908, CI = [0.1865, 0.3932]\n",
      "M = 200, Improvement = 0.2618, CI = [0.1889, 0.3318]\n",
      "M = 500, Improvement = 0.2179, CI = [0.1739, 0.2611]\n",
      "M = 1000, Improvement = 0.1803, CI = [0.1516, 0.2086]\n",
      "M = 2000, Improvement = 0.1337, CI = [0.1164, 0.1514]\n",
      "Parameters: N = 6700, mu_X = 0, sigma_X = 0.6, mu_epsilon = 0, sigma_1 = 1, sigma_2 = 0.4\n",
      "M = 10, Improvement = 0.6121, CI = [0.2981, 0.9348]\n",
      "M = 20, Improvement = 0.5799, CI = [0.3471, 0.8063]\n",
      "M = 50, Improvement = 0.5247, CI = [0.387, 0.6743]\n",
      "M = 100, Improvement = 0.4805, CI = [0.3841, 0.5789]\n",
      "M = 200, Improvement = 0.4308, CI = [0.3635, 0.4996]\n",
      "M = 500, Improvement = 0.3599, CI = [0.3192, 0.4001]\n",
      "M = 1000, Improvement = 0.2972, CI = [0.2715, 0.324]\n",
      "M = 2000, Improvement = 0.2211, CI = [0.2048, 0.2375]\n",
      "Parameters: N = 6700, mu_X = 0, sigma_X = 0.6, mu_epsilon = 0, sigma_1 = 0.8, sigma_2 = 0.6\n",
      "M = 10, Improvement = 0.2066, CI = [-0.1247, 0.5354]\n",
      "M = 20, Improvement = 0.1968, CI = [-0.0279, 0.4213]\n",
      "M = 50, Improvement = 0.1783, CI = [0.0325, 0.3234]\n",
      "M = 100, Improvement = 0.1623, CI = [0.064, 0.2567]\n",
      "M = 200, Improvement = 0.1469, CI = [0.0809, 0.2141]\n",
      "M = 500, Improvement = 0.1209, CI = [0.0803, 0.1614]\n",
      "M = 1000, Improvement = 0.0998, CI = [0.074, 0.1258]\n",
      "M = 2000, Improvement = 0.0747, CI = [0.0579, 0.0916]\n",
      "Parameters: N = 6700, mu_X = 0, sigma_X = 0.6, mu_epsilon = 0, sigma_1 = 0.8, sigma_2 = 0.4\n",
      "M = 10, Improvement = 0.4481, CI = [0.1553, 0.7618]\n",
      "M = 20, Improvement = 0.4214, CI = [0.2164, 0.6272]\n",
      "M = 50, Improvement = 0.383, CI = [0.2537, 0.5178]\n",
      "M = 100, Improvement = 0.3505, CI = [0.2632, 0.441]\n",
      "M = 200, Improvement = 0.3161, CI = [0.2546, 0.3759]\n",
      "M = 500, Improvement = 0.2628, CI = [0.2266, 0.2978]\n",
      "M = 1000, Improvement = 0.2169, CI = [0.1938, 0.2406]\n",
      "M = 2000, Improvement = 0.1617, CI = [0.1471, 0.1761]\n",
      "Parameters: N = 6700, mu_X = 0, sigma_X = 0.6, mu_epsilon = 0, sigma_1 = 0.6, sigma_2 = 0.4\n",
      "M = 10, Improvement = 0.2427, CI = [-0.0288, 0.5183]\n",
      "M = 20, Improvement = 0.2275, CI = [0.0522, 0.4233]\n",
      "M = 50, Improvement = 0.2065, CI = [0.0886, 0.3247]\n",
      "M = 100, Improvement = 0.1893, CI = [0.112, 0.2634]\n",
      "M = 200, Improvement = 0.1697, CI = [0.1181, 0.2233]\n",
      "M = 500, Improvement = 0.1417, CI = [0.1111, 0.1721]\n",
      "M = 1000, Improvement = 0.1169, CI = [0.0969, 0.1371]\n",
      "M = 2000, Improvement = 0.0869, CI = [0.0743, 0.0989]\n"
     ]
    },
    {
     "data": {
      "image/png": "[encoded data removed]",
      "text/plain": [
       "<Figure size 180x144 with 1 Axes>"
      ]
     },
     "metadata": {
      "needs_background": "light"
     },
     "output_type": "display_data"
    },
    {
     "data": {
      "image/png": "[encoded data removed]",
      "text/plain": [
       "<Figure size 180x144 with 1 Axes>"
      ]
     },
     "metadata": {
      "needs_background": "light"
     },
     "output_type": "display_data"
    },
    {
     "data": {
      "image/png": "[encoded data removed]",
      "text/plain": [
       "<Figure size 180x144 with 1 Axes>"
      ]
     },
     "metadata": {
      "needs_background": "light"
     },
     "output_type": "display_data"
    },
    {
     "data": {
      "image/png": "[encoded data removed]",
      "text/plain": [
       "<Figure size 180x144 with 1 Axes>"
      ]
     },
     "metadata": {
      "needs_background": "light"
     },
     "output_type": "display_data"
    },
    {
     "data": {
      "image/png": "[encoded data removed]",
      "text/plain": [
       "<Figure size 180x144 with 1 Axes>"
      ]
     },
     "metadata": {
      "needs_background": "light"
     },
     "output_type": "display_data"
    },
    {
     "data": {
      "image/png": "[encoded data removed]",
      "text/plain": [
       "<Figure size 180x144 with 1 Axes>"
      ]
     },
     "metadata": {
      "needs_background": "light"
     },
     "output_type": "display_data"
    }
   ],
   "source": [
    "M_list = [10, 20, 50, 100, 200, 500, 1000, 2000]\n",
    "N = 6700\n",
    "sigma_X = 0.6\n",
    "mu_X = 0\n",
    "mu_epsilon = 0\n",
    "\n",
    "for sigma_1 in [1, 0.8, 0.6]:\n",
    "    for sigma_2 in [0.8, 0.6, 0.4]:\n",
    "        if sigma_1 > sigma_2:\n",
    "            E_Ds, CI_lows, CI_highs = (\n",
    "                get_improvement_against_M(N, mu_X, sigma_X, mu_epsilon, \n",
    "                                          sigma_1, sigma_2, M_list, verbose=True)\n",
    "            )\n",
    "            \n",
    "            fig, ax = generate_improvement_against_M_plot(\n",
    "                M_list, E_Ds, CI_lows, CI_highs)\n",
    "\n",
    "            ax.set_yscale('log')\n",
    "            fig.set_size_inches(2.5, 2)\n",
    "            fig.savefig(\"./output/fig/value_gained_browne_johnson_{}_{}.pdf\"\n",
    "                        .format(str(sigma_1).replace('.', '-'),\n",
    "                                str(sigma_2).replace('.', '-')),\n",
    "                        transparent=True, bbox_inches='tight')"
   ]
  },
  {
   "cell_type": "markdown",
   "metadata": {},
   "source": [
    "# Potential value gained for marketing companies\n",
    "\n",
    "Here we treat the 184 e-commerce experiments reported by Johnson et al. as if that they are run by the same organisation, how much value would such organisation gain if the measurement/estimation noise is reduced from $\\sigma^2_1$ to $\\sigma^2_2$?"
   ]
  },
  {
   "cell_type": "code",
   "execution_count": 10,
   "metadata": {},
   "outputs": [
    {
     "name": "stdout",
     "output_type": "stream",
     "text": [
      "Parameters: N = 184, mu_X = 19.9, sigma_X = 10, mu_epsilon = 0, sigma_1 = 5, sigma_2 = 0.8\n",
      "M = 10, Improvement = 2.069, CI = [0.6274, 3.7586]\n",
      "M = 20, Improvement = 1.7409, CI = [0.7926, 2.852]\n",
      "M = 30, Improvement = 1.5419, CI = [0.7686, 2.3995]\n",
      "M = 40, Improvement = 1.3685, CI = [0.7586, 2.0533]\n",
      "M = 50, Improvement = 1.2531, CI = [0.7333, 1.8687]\n",
      "M = 60, Improvement = 1.1177, CI = [0.658, 1.6374]\n",
      "M = 80, Improvement = 0.9236, CI = [0.5825, 1.3124]\n",
      "M = 100, Improvement = 0.7447, CI = [0.4671, 1.0504]\n",
      "Parameters: N = 184, mu_X = 19.9, sigma_X = 10, mu_epsilon = 0, sigma_1 = 5, sigma_2 = 0.6\n",
      "M = 10, Improvement = 2.0567, CI = [0.6246, 3.826]\n",
      "M = 20, Improvement = 1.7706, CI = [0.7861, 2.8813]\n",
      "M = 30, Improvement = 1.5404, CI = [0.7921, 2.3858]\n",
      "M = 40, Improvement = 1.4033, CI = [0.8171, 2.0954]\n",
      "M = 50, Improvement = 1.2661, CI = [0.7316, 1.847]\n",
      "M = 60, Improvement = 1.1448, CI = [0.6861, 1.6501]\n",
      "M = 80, Improvement = 0.9365, CI = [0.5896, 1.327]\n",
      "M = 100, Improvement = 0.7562, CI = [0.4589, 1.0995]\n",
      "Parameters: N = 184, mu_X = 19.9, sigma_X = 10, mu_epsilon = 0, sigma_1 = 5, sigma_2 = 0.4\n",
      "M = 10, Improvement = 2.129, CI = [0.686, 3.8191]\n",
      "M = 20, Improvement = 1.7533, CI = [0.7758, 2.868]\n",
      "M = 30, Improvement = 1.5933, CI = [0.8289, 2.4443]\n",
      "M = 40, Improvement = 1.4018, CI = [0.7987, 2.0663]\n",
      "M = 50, Improvement = 1.2627, CI = [0.7421, 1.8568]\n",
      "M = 60, Improvement = 1.1589, CI = [0.6756, 1.6697]\n",
      "M = 80, Improvement = 0.9499, CI = [0.5806, 1.3392]\n",
      "M = 100, Improvement = 0.7665, CI = [0.4787, 1.0949]\n",
      "Parameters: N = 184, mu_X = 19.9, sigma_X = 10, mu_epsilon = 0, sigma_1 = 2, sigma_2 = 0.8\n",
      "M = 10, Improvement = 0.3237, CI = [-0.0622, 0.8689]\n",
      "M = 20, Improvement = 0.279, CI = [0.0059, 0.6325]\n",
      "M = 30, Improvement = 0.2497, CI = [0.0362, 0.5022]\n",
      "M = 40, Improvement = 0.2179, CI = [0.0502, 0.431]\n",
      "M = 50, Improvement = 0.1931, CI = [0.0438, 0.3709]\n",
      "M = 60, Improvement = 0.1786, CI = [0.0487, 0.3337]\n",
      "M = 80, Improvement = 0.1461, CI = [0.0459, 0.2653]\n",
      "M = 100, Improvement = 0.1171, CI = [0.0366, 0.2097]\n",
      "Parameters: N = 184, mu_X = 19.9, sigma_X = 10, mu_epsilon = 0, sigma_1 = 2, sigma_2 = 0.6\n",
      "M = 10, Improvement = 0.3515, CI = [-0.0024, 0.9251]\n",
      "M = 20, Improvement = 0.296, CI = [0.0284, 0.6457]\n",
      "M = 30, Improvement = 0.2651, CI = [0.0616, 0.5208]\n",
      "M = 40, Improvement = 0.2357, CI = [0.0616, 0.4515]\n",
      "M = 50, Improvement = 0.2159, CI = [0.0671, 0.3929]\n",
      "M = 60, Improvement = 0.1922, CI = [0.0673, 0.3471]\n",
      "M = 80, Improvement = 0.1583, CI = [0.0536, 0.2754]\n",
      "M = 100, Improvement = 0.1269, CI = [0.0472, 0.2241]\n",
      "Parameters: N = 184, mu_X = 19.9, sigma_X = 10, mu_epsilon = 0, sigma_1 = 2, sigma_2 = 0.4\n",
      "M = 10, Improvement = 0.3776, CI = [0.0, 0.9046]\n",
      "M = 20, Improvement = 0.312, CI = [0.049, 0.6526]\n",
      "M = 30, Improvement = 0.2771, CI = [0.0741, 0.5327]\n",
      "M = 40, Improvement = 0.2495, CI = [0.077, 0.4578]\n",
      "M = 50, Improvement = 0.2246, CI = [0.0763, 0.3904]\n",
      "M = 60, Improvement = 0.2067, CI = [0.0797, 0.3521]\n",
      "M = 80, Improvement = 0.1697, CI = [0.0701, 0.2893]\n",
      "M = 100, Improvement = 0.1347, CI = [0.0564, 0.2361]\n",
      "Parameters: N = 184, mu_X = 19.9, sigma_X = 10, mu_epsilon = 0, sigma_1 = 1, sigma_2 = 0.8\n",
      "M = 10, Improvement = 0.0333, CI = [-0.1603, 0.2571]\n",
      "M = 20, Improvement = 0.0289, CI = [-0.0952, 0.1815]\n",
      "M = 30, Improvement = 0.0284, CI = [-0.064, 0.1393]\n",
      "M = 40, Improvement = 0.0224, CI = [-0.0566, 0.1038]\n",
      "M = 50, Improvement = 0.0222, CI = [-0.0435, 0.0986]\n",
      "M = 60, Improvement = 0.0202, CI = [-0.0362, 0.0846]\n",
      "M = 80, Improvement = 0.0169, CI = [-0.0281, 0.0665]\n",
      "M = 100, Improvement = 0.0128, CI = [-0.0262, 0.0521]\n",
      "Parameters: N = 184, mu_X = 19.9, sigma_X = 10, mu_epsilon = 0, sigma_1 = 1, sigma_2 = 0.6\n",
      "M = 10, Improvement = 0.0607, CI = [-0.0941, 0.2769]\n",
      "M = 20, Improvement = 0.0553, CI = [-0.0481, 0.1942]\n",
      "M = 30, Improvement = 0.0464, CI = [-0.0329, 0.1482]\n",
      "M = 40, Improvement = 0.0427, CI = [-0.0246, 0.1264]\n",
      "M = 50, Improvement = 0.0392, CI = [-0.0168, 0.1105]\n",
      "M = 60, Improvement = 0.0355, CI = [-0.0121, 0.0946]\n",
      "M = 80, Improvement = 0.0287, CI = [-0.0107, 0.0769]\n",
      "M = 100, Improvement = 0.0227, CI = [-0.0089, 0.0607]\n",
      "Parameters: N = 184, mu_X = 19.9, sigma_X = 10, mu_epsilon = 0, sigma_1 = 1, sigma_2 = 0.4\n",
      "M = 10, Improvement = 0.0785, CI = [-0.0414, 0.286]\n",
      "M = 20, Improvement = 0.071, CI = [-0.0163, 0.2157]\n",
      "M = 30, Improvement = 0.0635, CI = [-0.0057, 0.1605]\n",
      "M = 40, Improvement = 0.0556, CI = [-0.0046, 0.1364]\n",
      "M = 50, Improvement = 0.0501, CI = [0.0, 0.1193]\n",
      "M = 60, Improvement = 0.046, CI = [0.0, 0.1062]\n",
      "M = 80, Improvement = 0.0377, CI = [0.0027, 0.0823]\n",
      "M = 100, Improvement = 0.0309, CI = [0.0024, 0.0671]\n",
      "Parameters: N = 184, mu_X = 19.9, sigma_X = 10, mu_epsilon = 0, sigma_1 = 0.8, sigma_2 = 0.6\n",
      "M = 10, Improvement = 0.0281, CI = [-0.1125, 0.1996]\n",
      "M = 20, Improvement = 0.022, CI = [-0.0644, 0.1235]\n",
      "M = 30, Improvement = 0.0198, CI = [-0.048, 0.0995]\n",
      "M = 40, Improvement = 0.0199, CI = [-0.0343, 0.0832]\n",
      "M = 50, Improvement = 0.0165, CI = [-0.0273, 0.0672]\n",
      "M = 60, Improvement = 0.0161, CI = [-0.0231, 0.0617]\n",
      "M = 80, Improvement = 0.0127, CI = [-0.018, 0.0503]\n",
      "M = 100, Improvement = 0.0103, CI = [-0.0155, 0.0385]\n",
      "Parameters: N = 184, mu_X = 19.9, sigma_X = 10, mu_epsilon = 0, sigma_1 = 0.8, sigma_2 = 0.4\n",
      "M = 10, Improvement = 0.0476, CI = [-0.0452, 0.2067]\n",
      "M = 20, Improvement = 0.0421, CI = [-0.0241, 0.1386]\n",
      "M = 30, Improvement = 0.037, CI = [-0.016, 0.1072]\n",
      "M = 40, Improvement = 0.0325, CI = [-0.0115, 0.0895]\n",
      "M = 50, Improvement = 0.0298, CI = [-0.0091, 0.0825]\n",
      "M = 60, Improvement = 0.0268, CI = [-0.0059, 0.0716]\n",
      "M = 80, Improvement = 0.0215, CI = [-0.004, 0.0545]\n",
      "M = 100, Improvement = 0.0173, CI = [-0.0035, 0.0445]\n",
      "Parameters: N = 184, mu_X = 19.9, sigma_X = 10, mu_epsilon = 0, sigma_1 = 0.6, sigma_2 = 0.4\n",
      "M = 10, Improvement = 0.0216, CI = [-0.0616, 0.1386]\n",
      "M = 20, Improvement = 0.0157, CI = [-0.0352, 0.0858]\n",
      "M = 30, Improvement = 0.0156, CI = [-0.0253, 0.0668]\n",
      "M = 40, Improvement = 0.0137, CI = [-0.0207, 0.0525]\n",
      "M = 50, Improvement = 0.0118, CI = [-0.0151, 0.0462]\n",
      "M = 60, Improvement = 0.0104, CI = [-0.0143, 0.0395]\n",
      "M = 80, Improvement = 0.0092, CI = [-0.0096, 0.0317]\n",
      "M = 100, Improvement = 0.0071, CI = [-0.0077, 0.0253]\n"
     ]
    },
    {
     "data": {
      "image/png": "[encoded data removed]",
      "text/plain": [
       "<Figure size 180x144 with 1 Axes>"
      ]
     },
     "metadata": {
      "needs_background": "light"
     },
     "output_type": "display_data"
    },
    {
     "data": {
      "image/png": "[encoded data removed]",
      "text/plain": [
       "<Figure size 180x144 with 1 Axes>"
      ]
     },
     "metadata": {
      "needs_background": "light"
     },
     "output_type": "display_data"
    },
    {
     "data": {
      "image/png": "[encoded data removed]",
      "text/plain": [
       "<Figure size 180x144 with 1 Axes>"
      ]
     },
     "metadata": {
      "needs_background": "light"
     },
     "output_type": "display_data"
    },
    {
     "data": {
      "image/png": "[encoded data removed]",
      "text/plain": [
       "<Figure size 180x144 with 1 Axes>"
      ]
     },
     "metadata": {
      "needs_background": "light"
     },
     "output_type": "display_data"
    },
    {
     "data": {
      "image/png": "[encoded data removed]",
      "text/plain": [
       "<Figure size 180x144 with 1 Axes>"
      ]
     },
     "metadata": {
      "needs_background": "light"
     },
     "output_type": "display_data"
    },
    {
     "data": {
      "image/png": "[encoded data removed]",
      "text/plain": [
       "<Figure size 180x144 with 1 Axes>"
      ]
     },
     "metadata": {
      "needs_background": "light"
     },
     "output_type": "display_data"
    },
    {
     "data": {
      "image/png": "[encoded data removed]",
      "text/plain": [
       "<Figure size 180x144 with 1 Axes>"
      ]
     },
     "metadata": {
      "needs_background": "light"
     },
     "output_type": "display_data"
    },
    {
     "data": {
      "image/png": "[encoded data removed]",
      "text/plain": [
       "<Figure size 180x144 with 1 Axes>"
      ]
     },
     "metadata": {
      "needs_background": "light"
     },
     "output_type": "display_data"
    },
    {
     "data": {
      "image/png": "[encoded data removed]",
      "text/plain": [
       "<Figure size 180x144 with 1 Axes>"
      ]
     },
     "metadata": {
      "needs_background": "light"
     },
     "output_type": "display_data"
    },
    {
     "data": {
      "image/png": "[encoded data removed]",
      "text/plain": [
       "<Figure size 180x144 with 1 Axes>"
      ]
     },
     "metadata": {
      "needs_background": "light"
     },
     "output_type": "display_data"
    },
    {
     "data": {
      "image/png": "[encoded data removed]",
      "text/plain": [
       "<Figure size 180x144 with 1 Axes>"
      ]
     },
     "metadata": {
      "needs_background": "light"
     },
     "output_type": "display_data"
    },
    {
     "data": {
      "image/png": "[encoded data removed]",
      "text/plain": [
       "<Figure size 180x144 with 1 Axes>"
      ]
     },
     "metadata": {
      "needs_background": "light"
     },
     "output_type": "display_data"
    }
   ],
   "source": [
    "M_list = [10, 20, 30, 40, 50, 60, 80, 100]\n",
    "N = 184\n",
    "sigma_X = 10\n",
    "mu_X = 19.9\n",
    "mu_epsilon = 0\n",
    "\n",
    "for sigma_1 in [5, 2, 1, 0.8, 0.6]:\n",
    "    for sigma_2 in [0.8, 0.6, 0.4]:\n",
    "        if sigma_1 > sigma_2:\n",
    "            E_Ds, CI_lows, CI_highs = (\n",
    "                get_improvement_against_M(N, mu_X, sigma_X, mu_epsilon, \n",
    "                                          sigma_1, sigma_2, M_list, verbose=True)\n",
    "            )\n",
    "            \n",
    "            fig, ax = generate_improvement_against_M_plot(\n",
    "                M_list, E_Ds, CI_lows, CI_highs)\n",
    "            \n",
    "            ax.set_yscale('linear')\n",
    "            fig.set_size_inches(2.5, 2)\n",
    "            fig.savefig(\"./output/fig/value_gained_johnson_etal_{}_{}.pdf\"\n",
    "                        .format(str(sigma_1).replace('.', '-'),\n",
    "                                str(sigma_2).replace('.', '-')),\n",
    "                        transparent=True, bbox_inches='tight')"
   ]
  },
  {
   "cell_type": "code",
   "execution_count": null,
   "metadata": {
    "collapsed": true
   },
   "outputs": [],
   "source": []
  }
 ],
 "metadata": {
  "kernelspec": {
   "display_name": "Python 3",
   "language": "python",
   "name": "python3"
  },
  "language_info": {
   "codemirror_mode": {
    "name": "ipython",
    "version": 3
   },
   "file_extension": ".py",
   "mimetype": "text/x-python",
   "name": "python",
   "nbconvert_exporter": "python",
   "pygments_lexer": "ipython3",
   "version": "3.7.3"
  }
 },
 "nbformat": 4,
 "nbformat_minor": 2
}
