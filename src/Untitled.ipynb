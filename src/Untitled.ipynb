{
 "cells": [
  {
   "cell_type": "code",
   "execution_count": null,
   "metadata": {},
   "outputs": [],
   "source": [
    "import numpy as np\n",
    "from matplotlib import pyplot as plt\n",
    "from normal_normal_model import get_samples\n",
    "from covariance_CI_test import *\n",
    "import pickle\n",
    "from typing import List\n",
    "import time"
   ]
  },
  {
   "cell_type": "code",
   "execution_count": null,
   "metadata": {},
   "outputs": [],
   "source": [
    "# N = 500\n",
    "# M = 100\n",
    "# mu_X = 0\n",
    "# mu_epsilon = 0\n",
    "# sigma_sq_X = 1.5**2\n",
    "# sigma_sq_1 = 1.1**2\n",
    "# sigma_sq_2 = 0.6**2\n",
    "\n",
    "# r = 450\n",
    "# s = 485"
   ]
  },
  {
   "cell_type": "code",
   "execution_count": null,
   "metadata": {},
   "outputs": [],
   "source": [
    "num_runs = 47\n",
    "num_covariate_samples = 47\n",
    "num_tests = 300"
   ]
  },
  {
   "cell_type": "code",
   "execution_count": null,
   "metadata": {},
   "outputs": [],
   "source": [
    "def print_covariance_CI_test_results(covariance_CI_tests: List[CovarianceCITest]) -> None:\n",
    "    if covariance_CI_tests is None or len(covariance_CI_tests) == 0:\n",
    "        print(\"There is nothing in the provided test collection.\")\n",
    "    \n",
    "    within_CI = [test.theoretical_quantity_in_sample_CI()\n",
    "                 for test in covariance_CI_tests]\n",
    "    \n",
    "    print(covariance_CI_tests[0].get_test_name() + \n",
    "          \": {}/{} ({}%) \"\n",
    "          .format(np.sum(within_CI), len(within_CI), \n",
    "                  np.round(100.0*np.sum(within_CI)/len(within_CI), 2)) +\n",
    "          \"of the tests have the theoretical quantity within the CI.\")"
   ]
  },
  {
   "cell_type": "code",
   "execution_count": null,
   "metadata": {},
   "outputs": [],
   "source": [
    "def save_test_collection(test_collection: List[CovarianceCITest]) -> None:\n",
    "    if test_collection is None or len(test_collection) == 0:\n",
    "        return\n",
    "    file_name = (\"../output/\" + str(test_collection[0].__class__.__name__) + \n",
    "                 \"_\" + str(int(time.time())) + \".pickle\")\n",
    "    pickle_file = open(file_name, 'wb')\n",
    "    pickle.dump(test_collection, pickle_file)\n",
    "    \n",
    "    print(\"The test collection is saved at \" + file_name)"
   ]
  },
  {
   "cell_type": "code",
   "execution_count": null,
   "metadata": {},
   "outputs": [],
   "source": [
    "def get_params() -> Dict[str, float]:\n",
    "    \"\"\"\n",
    "    Randomly generate a set of parameters from a realistic param space\n",
    "    \"\"\"\n",
    "    params = {\n",
    "        'N': int(10 ** np.random.uniform(1.0, 3.5)),\n",
    "        'mu_X': np.random.uniform(-10, 10),\n",
    "        'mu_epsilon': np.random.uniform(-10, 10),\n",
    "        'sigma_sq_X': np.random.uniform(0.3, 10) ** 2,\n",
    "        'sigma_sq_1': np.random.uniform(0.3, 10) ** 2\n",
    "    }\n",
    "    params['M'] = max(int(params['N'] * np.random.uniform(0.01, 0.66)), 1)\n",
    "    params['sigma_sq_2'] = (\n",
    "        max((np.sqrt(params['sigma_sq_1']) * np.random.uniform(0.1, 0.99)) ** 2, \n",
    "            0.2 ** 2))\n",
    "    params['r'] = (\n",
    "        int(np.random.uniform(params['N'] - params['M'] + 1, params['N'] + 1)))\n",
    "    params['s'] = (\n",
    "        int(np.random.uniform(params['N'] - params['M'] + 1, params['N'] + 1)))\n",
    "        \n",
    "    return params"
   ]
  },
  {
   "cell_type": "code",
   "execution_count": null,
   "metadata": {},
   "outputs": [],
   "source": [
    "cov_Yr_Zs_tests = []\n",
    "cov_Yr_Ys_second_order_tests = []\n",
    "cov_XIr_XJs_tests = []\n",
    "cov_V1_V2_tests = []\n",
    "cov_Yr_Ys_tests = []\n",
    "\n",
    "cov_test_collections = [\n",
    "    cov_Yr_Ys_tests, cov_Yr_Ys_second_order_tests,\n",
    "    cov_Yr_Zs_tests, cov_XIr_XJs_tests, cov_V1_V2_tests]\n",
    "\n",
    "for num_test in range(0, num_tests):\n",
    "    try:\n",
    "        # Sample the parameters from a realistic parameter space\n",
    "        params = get_params()\n",
    "        N = params['N']\n",
    "        M = params['M']\n",
    "        mu_X = params['mu_X']\n",
    "        mu_epsilon = params['mu_epsilon']\n",
    "        sigma_sq_X = params['sigma_sq_X']\n",
    "        sigma_sq_1 = params['sigma_sq_1']\n",
    "        sigma_sq_2 = params['sigma_sq_2']\n",
    "        r = params['r']\n",
    "        s = params['s']\n",
    "        \n",
    "        # Prepare a test\n",
    "        cov_Yr_Ys_test = CovYrYsCITest(r, s, N, sigma_sq_X, sigma_sq_1=sigma_sq_1)\n",
    "        cov_Yr_Ys_second_order_test = CovYrYsSecondOrderCITest(r, s, N, sigma_sq_X, sigma_sq_1=sigma_sq_1)\n",
    "        cov_Yr_Zs_test = CovYrZsCITest(r, s, sigma_sq_X, sigma_sq_1, sigma_sq_2, N)\n",
    "        cov_XIr_XJs_test = CovXIrXJsCITest(r, s, sigma_sq_X, sigma_sq_1, sigma_sq_2, N)\n",
    "        cov_V1_V2_test = CovV1V2CITest(sigma_sq_X, sigma_sq_1, sigma_sq_2, N, M)\n",
    "        \n",
    "        # Arrange the covariance tests IN THE SAME ORDER as that in the collections\n",
    "        cov_tests = [cov_Yr_Ys_test, cov_Yr_Ys_second_order_test, \n",
    "                     cov_Yr_Zs_test, cov_XIr_XJs_test, cov_V1_V2_test]\n",
    "\n",
    "        for num_covariate_sample in range(0, num_covariate_samples):\n",
    "            print(\"Test {}/{} (N={}, M={}): calculating sample {}/{}...      \"\n",
    "                  .format(num_test+1, num_tests, N, M,\n",
    "                          num_covariate_sample+1, num_covariate_samples), \n",
    "                  end='\\r')\n",
    "\n",
    "            # Generate samples from multiple runs to obtain one\n",
    "            # covariate sample for each pair of r.v. we are intersted in\n",
    "            samples = get_samples(\n",
    "                num_runs, N, M, mu_X, mu_epsilon, \n",
    "                sigma_sq_X, sigma_sq_1, sigma_sq_2,\n",
    "                verbose=False, r=r, s=s)\n",
    "\n",
    "            for test in cov_tests:\n",
    "                test.add_sample(samples)\n",
    "        \n",
    "        # Once a test is completed (i.e. we collected enough covariate\n",
    "        # samples), we added them to the corresponding, existing\n",
    "        # collection of tests\n",
    "        for (cov_test, cov_test_collection) in \\\n",
    "            [(cov_tests[i], cov_test_collections[i]) for i in range(0, len(cov_tests))]:\n",
    "            cov_test_collection.append(cov_test)\n",
    "        \n",
    "    except KeyboardInterrupt:\n",
    "        # Breaking the for loop is sufficient, as we want to\n",
    "        # analyse the results accumulated so far\n",
    "        break\n",
    "\n",
    "for cov_test_collection in cov_test_collections:\n",
    "    print_covariance_CI_test_results(cov_test_collection)\n",
    "    save_test_collection(cov_test_collection)\n",
    "\n",
    "# TODO: Save the tests as a pickle for future reference. https://www.thoughtco.com/using-pickle-to-save-objects-2813661\n",
    "# TODO: Convert this to a callable program https://stackabuse.com/command-line-arguments-in-python/"
   ]
  },
  {
   "cell_type": "code",
   "execution_count": null,
   "metadata": {},
   "outputs": [],
   "source": [
    "for cov_test_collection in cov_test_collections:\n",
    "    print_covariance_CI_test_results(cov_test_collection)\n",
    "    save_test_collection(cov_test_collection)"
   ]
  },
  {
   "cell_type": "code",
   "execution_count": null,
   "metadata": {},
   "outputs": [],
   "source": [
    "print_covariance_CI_test_results(cov_Yr_Zs_tests)\n",
    "print_covariance_CI_test_results(cov_XIr_XJs_tests)\n",
    "print_covariance_CI_test_results(cov_V1_V2_tests)"
   ]
  },
  {
   "cell_type": "code",
   "execution_count": null,
   "metadata": {},
   "outputs": [],
   "source": [
    "print(np.sum([test.theoretical_quantity_above_sample_CI() for test in cov_Yr_Ys_tests]))\n",
    "print(np.sum([test.theoretical_quantity_below_sample_CI() for test in cov_Yr_Ys_tests]))\n",
    "print(np.sum([test.theoretical_quantity_above_sample_CI() for test in cov_Yr_Ys_second_order_tests]))\n",
    "print(np.sum([test.theoretical_quantity_below_sample_CI() for test in cov_Yr_Ys_second_order_tests]))"
   ]
  },
  {
   "cell_type": "code",
   "execution_count": null,
   "metadata": {},
   "outputs": [],
   "source": [
    "for test in cov_Yr_Ys_tests:\n",
    "    if not test.theoretical_quantity_in_sample_CI():\n",
    "        print(test.samples)\n",
    "#         plt.gca()\n",
    "#         plt.hist(test.samples)\n",
    "#         plt.axvline(test.theoretical_quantity())\n",
    "#         print(test.get_sample_CI(), test.theoretical_quantity()) "
   ]
  },
  {
   "cell_type": "code",
   "execution_count": null,
   "metadata": {},
   "outputs": [],
   "source": [
    "cov_Yr_Ys_tests[0].samples"
   ]
  },
  {
   "cell_type": "code",
   "execution_count": null,
   "metadata": {},
   "outputs": [],
   "source": [
    "print([test.theoretical_quantity() for test in cov_Yr_Ys_tests])\n",
    "print([test.theoretical_quantity() for test in cov_Yr_Zs_second_order_tests])"
   ]
  },
  {
   "cell_type": "code",
   "execution_count": null,
   "metadata": {},
   "outputs": [],
   "source": []
  }
 ],
 "metadata": {
  "kernelspec": {
   "display_name": "Python 3",
   "language": "python",
   "name": "python3"
  },
  "language_info": {
   "codemirror_mode": {
    "name": "ipython",
    "version": 3
   },
   "file_extension": ".py",
   "mimetype": "text/x-python",
   "name": "python",
   "nbconvert_exporter": "python",
   "pygments_lexer": "ipython3",
   "version": "3.7.3"
  }
 },
 "nbformat": 4,
 "nbformat_minor": 2
}
