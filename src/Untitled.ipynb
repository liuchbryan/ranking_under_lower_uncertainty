{
 "cells": [
  {
   "cell_type": "code",
   "execution_count": 6,
   "metadata": {},
   "outputs": [],
   "source": [
    "import numpy as np\n",
    "from matplotlib import pyplot as plt\n",
    "from normal_normal_model import get_samples\n",
    "from covariance_CI_test import CovYrZsCITest, CovXIrXJsCITest, CovV1V2CITest"
   ]
  },
  {
   "cell_type": "code",
   "execution_count": 7,
   "metadata": {},
   "outputs": [],
   "source": [
    "\n",
    "N = 500\n",
    "M = 100\n",
    "mu_X = 0\n",
    "mu_epsilon = 0\n",
    "sigma_sq_X = 1.5**2\n",
    "sigma_sq_1 = 1.1**2\n",
    "sigma_sq_2 = 0.6**2\n",
    "\n",
    "r = 450\n",
    "s = 485"
   ]
  },
  {
   "cell_type": "code",
   "execution_count": 32,
   "metadata": {},
   "outputs": [],
   "source": [
    "num_runs = 379\n",
    "num_covariate_samples = 163\n",
    "num_tests = 100"
   ]
  },
  {
   "cell_type": "code",
   "execution_count": 33,
   "metadata": {},
   "outputs": [],
   "source": [
    "def print_covariance_CI_test_results(covariance_CI_tests, test_name:str):\n",
    "    within_CI = [test.theoretical_quantity_in_sample_CI()\n",
    "                 for test in covariance_CI_tests]\n",
    "    \n",
    "    print(test_name + \n",
    "          \": {}/{} ({}%) \"\n",
    "          .format(np.sum(within_CI), len(within_CI), \n",
    "                  np.round(100.0*np.sum(within_CI)/len(within_CI), 2)) +\n",
    "          \"of the tests have the theoretical quantity within the CI.\")"
   ]
  },
  {
   "cell_type": "code",
   "execution_count": null,
   "metadata": {},
   "outputs": [
    {
     "name": "stdout",
     "output_type": "stream",
     "text": [
      "Test 3/100 (N=65, M=26): calculating sample 11/163...         \r"
     ]
    }
   ],
   "source": [
    "cov_Yr_Zs_tests = []\n",
    "cov_XIr_XJs_tests = []\n",
    "cov_V1_V2_tests = []\n",
    "\n",
    "for num_test in range(0, num_tests):\n",
    "    try:\n",
    "        # Sample the parameters from a realistic parameter space\n",
    "        N = int(10 ** np.random.uniform(1.0, 3.6))\n",
    "        M = int(N* np.random.uniform(0.01, 0.99))\n",
    "        sigma_sq_X = np.random.uniform(0.3, 10) ** 2\n",
    "        sigma_sq_1 = np.random.uniform(0.3, 10) ** 2\n",
    "        sigma_sq_2 = max((np.sqrt(sigma_sq_1) * np.random.uniform(0.1, 0.99)) ** 2,\n",
    "                         0.2 ** 2)\n",
    "        r = int(np.random.uniform(N-M+1, N))\n",
    "        s = int(np.random.uniform(N-M+1, N))\n",
    "        \n",
    "        # Prepare a test\n",
    "        cov_Yr_Zs_test = CovYrZsCITest(r, s, sigma_sq_X, sigma_sq_1, sigma_sq_2, N)\n",
    "        cov_XIr_XJs_test = CovXIrXJsCITest(r, s, sigma_sq_X, sigma_sq_1, sigma_sq_2, N)\n",
    "        cov_V1_V2_test = CovV1V2CITest(sigma_sq_X, sigma_sq_1, sigma_sq_2, N, M)\n",
    "\n",
    "        for num_covariate_sample in range(0, num_covariate_samples):\n",
    "            print(\"Test {}/{} (N={}, M={}): calculating sample {}/{}...      \"\n",
    "                  .format(num_test+1, num_tests, N, M,\n",
    "                          num_covariate_sample+1, num_covariate_samples), \n",
    "                  end='\\r')\n",
    "\n",
    "            # Generate samples from multiple runs to obtain one\n",
    "            # covariate sample for each pair of r.v. we are intersted in\n",
    "            samples = get_samples(\n",
    "                num_runs, N, M, mu_X, mu_epsilon, \n",
    "                sigma_sq_X, sigma_sq_1, sigma_sq_2,\n",
    "                verbose=False, r=r, s=s)\n",
    "\n",
    "            for test in [cov_Yr_Zs_test, cov_XIr_XJs_test, cov_V1_V2_test]:\n",
    "                test.add_sample(samples)\n",
    "        \n",
    "        # Once a test is completed (i.e. we collected enough covariate\n",
    "        # samples), we added them to the existing collection of tests\n",
    "        cov_Yr_Zs_tests.append(cov_Yr_Zs_test)\n",
    "        cov_XIr_XJs_tests.append(cov_XIr_XJs_test)\n",
    "        cov_V1_V2_tests.append(cov_V1_V2_test)\n",
    "        \n",
    "    except KeyboardInterrupt:\n",
    "        # Breaking the for loop is sufficient, as we want to\n",
    "        # analyse the results accumulated so far\n",
    "        break\n",
    "        \n",
    "print_covariance_CI_test_results(cov_Yr_Zs_tests, 'Cov(Y_(r), Z_(s))')\n",
    "print_covariance_CI_test_results(cov_XIr_XJs_tests, 'Cov(Y_I(r), Z_J(s))')\n",
    "print_covariance_CI_test_results(cov_V1_V2_tests, 'Cov(V_1, V_2)')\n",
    "\n",
    "# TODO: Save the tests as a pickle for future reference.\n",
    "# TODO: Convert this to a callable program https://stackabuse.com/command-line-arguments-in-python/"
   ]
  },
  {
   "cell_type": "code",
   "execution_count": null,
   "metadata": {},
   "outputs": [],
   "source": []
  }
 ],
 "metadata": {
  "kernelspec": {
   "display_name": "Python 3",
   "language": "python",
   "name": "python3"
  },
  "language_info": {
   "codemirror_mode": {
    "name": "ipython",
    "version": 3
   },
   "file_extension": ".py",
   "mimetype": "text/x-python",
   "name": "python",
   "nbconvert_exporter": "python",
   "pygments_lexer": "ipython3",
   "version": "3.7.3"
  }
 },
 "nbformat": 4,
 "nbformat_minor": 2
}
